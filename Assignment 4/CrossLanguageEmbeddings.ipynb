{
  "nbformat": 4,
  "nbformat_minor": 0,
  "metadata": {
    "colab": {
      "name": "Copy of CrossLanguageEmbeddings.ipynb",
      "provenance": []
    },
    "kernelspec": {
      "name": "python3",
      "display_name": "Python 3"
    },
    "accelerator": "GPU"
  },
  "cells": [
    {
      "cell_type": "markdown",
      "metadata": {
        "id": "oDsn_Motja8Q"
      },
      "source": [
        "# Cross-Language Word Embeddings\n",
        "\n",
        "We have mentioned, and will discuss in more detail this week, how we can reduce the dimensionality of word representations from their original vectors space to an embedding space on the order of a few hundred dimensions. Different modeling choices for word embeddings may be ultimately evaluated by the effectiveness of classifiers, parsers, and other inference models that use those embeddings.\n",
        "\n",
        "In this assignment, however, we will consider another common method of evaluating word embeddings: by judging the usefulness of pairwise distances between words in the embedding space.\n",
        "\n",
        "Follow along with the examples in this notebook, and implement the sections of code flagged with **TODO**."
      ]
    },
    {
      "cell_type": "code",
      "metadata": {
        "id": "UKm5cPMQ2xHU"
      },
      "source": [
        "import gensim\n",
        "from tqdm import tqdm\n",
        "import numba\n",
        "import numpy as np\n",
        "from gensim.test.utils import datapath, get_tmpfile\n",
        "from gensim.models import Word2Vec\n",
        "from gensim.models.word2vec import LineSentence"
      ],
      "execution_count": 108,
      "outputs": []
    },
    {
      "cell_type": "markdown",
      "metadata": {
        "id": "sfKjYFDklB4c"
      },
      "source": [
        "We'll start by downloading a plain-text version of the Shakespeare plays we used for the first assignment."
      ]
    },
    {
      "cell_type": "code",
      "metadata": {
        "id": "Dw3bvl1yf5FB",
        "colab": {
          "base_uri": "https://localhost:8080/"
        },
        "outputId": "23f2eb3b-2b24-4cd0-8bf0-d654ea6c6049"
      },
      "source": [
        "!wget http://www.ccs.neu.edu/home/dasmith/courses/cs6120/shakespeare_plays.txt\n",
        "lines = [s.split() for s in open('shakespeare_plays.txt')]"
      ],
      "execution_count": 109,
      "outputs": [
        {
          "output_type": "stream",
          "text": [
            "--2021-04-17 01:22:08--  http://www.ccs.neu.edu/home/dasmith/courses/cs6120/shakespeare_plays.txt\n",
            "Resolving www.ccs.neu.edu (www.ccs.neu.edu)... 52.70.229.197\n",
            "Connecting to www.ccs.neu.edu (www.ccs.neu.edu)|52.70.229.197|:80... connected.\n",
            "HTTP request sent, awaiting response... 200 OK\n",
            "Length: 4746840 (4.5M) [text/plain]\n",
            "Saving to: ‘shakespeare_plays.txt.4’\n",
            "\n",
            "\rshakespeare_plays.t   0%[                    ]       0  --.-KB/s               \rshakespeare_plays.t 100%[===================>]   4.53M  --.-KB/s    in 0.1s    \n",
            "\n",
            "2021-04-17 01:22:08 (46.8 MB/s) - ‘shakespeare_plays.txt.4’ saved [4746840/4746840]\n",
            "\n"
          ],
          "name": "stdout"
        }
      ]
    },
    {
      "cell_type": "markdown",
      "metadata": {
        "id": "5cZ52pEflKKM"
      },
      "source": [
        "Then, we'll estimate a simple word2vec model on the Shakespeare texts."
      ]
    },
    {
      "cell_type": "code",
      "metadata": {
        "id": "eXT5BNPs_zjM"
      },
      "source": [
        "model = Word2Vec(lines)"
      ],
      "execution_count": 110,
      "outputs": []
    },
    {
      "cell_type": "markdown",
      "metadata": {
        "id": "Fzt3lG1-lw33"
      },
      "source": [
        "Even with such a small training set size, you can perform some standard analogy tasks."
      ]
    },
    {
      "cell_type": "code",
      "metadata": {
        "id": "i4ruAqhKC3-R",
        "colab": {
          "base_uri": "https://localhost:8080/"
        },
        "outputId": "2f9fcafb-5a47-49bd-c312-7521106deb85"
      },
      "source": [
        "model.wv.most_similar(positive=['king','woman'], negative=['man'])"
      ],
      "execution_count": 111,
      "outputs": [
        {
          "output_type": "execute_result",
          "data": {
            "text/plain": [
              "[('queen', 0.80985426902771),\n",
              " ('duke', 0.7773141860961914),\n",
              " ('york', 0.7664082646369934),\n",
              " ('prince', 0.7646195888519287),\n",
              " ('gloucester', 0.742842435836792),\n",
              " ('cardinal', 0.7427535057067871),\n",
              " ('warwick', 0.7411811351776123),\n",
              " ('clarence', 0.7070386409759521),\n",
              " ('widow', 0.7051149606704712),\n",
              " ('suffolk', 0.693950891494751)]"
            ]
          },
          "metadata": {
            "tags": []
          },
          "execution_count": 111
        }
      ]
    },
    {
      "cell_type": "markdown",
      "metadata": {
        "id": "AJL45y5emjA9"
      },
      "source": [
        "For the rest of this assignment, we will focus on finding words with similar embeddings, both within and across languages. For example, what words are similar to the name of the title character of *Othello*?"
      ]
    },
    {
      "cell_type": "code",
      "metadata": {
        "id": "1EZGroU0KPyj",
        "colab": {
          "base_uri": "https://localhost:8080/"
        },
        "outputId": "c0f90f43-70ab-4b77-b470-16132c049063"
      },
      "source": [
        "model.wv.most_similar(positive=['othello'])\n",
        "#model.wv.most_similar(positive=['brutus'])"
      ],
      "execution_count": 112,
      "outputs": [
        {
          "output_type": "execute_result",
          "data": {
            "text/plain": [
              "[('desdemona', 0.9518844485282898),\n",
              " ('iago', 0.9488846659660339),\n",
              " ('emilia', 0.9115982055664062),\n",
              " ('cassio', 0.9101124405860901),\n",
              " ('ham', 0.894819974899292),\n",
              " ('cleopatra', 0.8941190838813782),\n",
              " ('fal', 0.8876879811286926),\n",
              " ('ha', 0.8874792456626892),\n",
              " ('aside', 0.8828766345977783),\n",
              " ('troilus', 0.882326602935791)]"
            ]
          },
          "metadata": {
            "tags": []
          },
          "execution_count": 112
        }
      ]
    },
    {
      "cell_type": "markdown",
      "metadata": {
        "id": "UM2BT_7zZle3"
      },
      "source": [
        "This search uses cosine similarity. In the default API, you should see the same similarity between the words `othello` and `desdemona` as in the search results above."
      ]
    },
    {
      "cell_type": "code",
      "metadata": {
        "id": "-e32-u4zYFda",
        "colab": {
          "base_uri": "https://localhost:8080/"
        },
        "outputId": "a8adbb99-4f24-4fa3-88f5-67130fcdec68"
      },
      "source": [
        "model.wv.similarity('othello', 'desdemona')"
      ],
      "execution_count": 113,
      "outputs": [
        {
          "output_type": "execute_result",
          "data": {
            "text/plain": [
              "0.9518845"
            ]
          },
          "metadata": {
            "tags": []
          },
          "execution_count": 113
        }
      ]
    },
    {
      "cell_type": "markdown",
      "metadata": {
        "id": "c49DwfAmZ6PU"
      },
      "source": [
        "**TODO**: Your **first task**, therefore, is to implement your own cosine similarity function so that you can reuse it outside of the context of the gensim model object."
      ]
    },
    {
      "cell_type": "code",
      "metadata": {
        "id": "rEj2PqpuZ5xs",
        "colab": {
          "base_uri": "https://localhost:8080/"
        },
        "outputId": "c6b3aea5-adfb-4555-da9c-f667b769603d"
      },
      "source": [
        "## TODO: Implement cosim\n",
        "@numba.jit(target = 'cpu', nopython = True)\n",
        "def cosim(v1, v2):\n",
        "  mag = np.sqrt(np.dot(v1,v1)) * np.sqrt(np.dot(v2,v2))\n",
        "  similarity = np.dot(v1,v2) / mag\n",
        "  ## return cosine similarity between v1 and v2\n",
        "  return similarity\n",
        "\n",
        "## This should give a result similar to model.wv.similarity:\n",
        "cosim(model.wv['othello'], model.wv['desdemona'])\n"
      ],
      "execution_count": 114,
      "outputs": [
        {
          "output_type": "stream",
          "text": [
            "/usr/local/lib/python3.7/dist-packages/numba/core/decorators.py:150: NumbaDeprecationWarning: The 'target' keyword argument is deprecated.\n",
            "  warnings.warn(\"The 'target' keyword argument is deprecated.\", NumbaDeprecationWarning)\n"
          ],
          "name": "stderr"
        },
        {
          "output_type": "execute_result",
          "data": {
            "text/plain": [
              "0.9518845081329346"
            ]
          },
          "metadata": {
            "tags": []
          },
          "execution_count": 114
        }
      ]
    },
    {
      "cell_type": "markdown",
      "metadata": {
        "id": "3TbDqBIHbHfB"
      },
      "source": [
        "## Evaluation\n",
        "\n",
        "We could collect a lot of human judgments about how similar pairs of words, or pairs of Shakespearean characters, are. Then we could compare different word-embedding models by their ability to replicate these human judgments.\n",
        "\n",
        "If we extend our ambition to multiple languages, however, we can use a word translation task to evaluate word embeddings.\n",
        "\n",
        "We will use a subset of [Facebook AI's FastText cross-language embeddings](https://fasttext.cc/docs/en/aligned-vectors.html) for several languages. Your task will be to compare English both to French, and to *one more language* from the following set: Arabic, German, Portuguese, Russian, Spanish, Vietnamese, and Chinese."
      ]
    },
    {
      "cell_type": "code",
      "metadata": {
        "id": "FC_FXRnfq1BO",
        "colab": {
          "base_uri": "https://localhost:8080/"
        },
        "outputId": "7f6ea448-8820-4965-8382-a4b51cbe20b3"
      },
      "source": [
        "!wget http://www.ccs.neu.edu/home/dasmith/courses/cs6120/30k.en.vec\n",
        "!wget http://www.ccs.neu.edu/home/dasmith/courses/cs6120/30k.fr.vec\n",
        "\n",
        "# TODO: uncomment at least one of these to work with another language\n",
        "!wget http://www.ccs.neu.edu/home/dasmith/courses/cs6120/30k.ar.vec\n",
        "# !wget http://www.ccs.neu.edu/home/dasmith/courses/cs6120/30k.de.vec\n",
        "# !wget http://www.ccs.neu.edu/home/dasmith/courses/cs6120/30k.pt.vec\n",
        "# !wget http://www.ccs.neu.edu/home/dasmith/courses/cs6120/30k.ru.vec\n",
        "!wget http://www.ccs.neu.edu/home/dasmith/courses/cs6120/30k.es.vec\n",
        "# !wget http://www.ccs.neu.edu/home/dasmith/courses/cs6120/30k.vi.vec\n",
        "# !wget http://www.ccs.neu.edu/home/dasmith/courses/cs6120/30k.zh.vec"
      ],
      "execution_count": 115,
      "outputs": [
        {
          "output_type": "stream",
          "text": [
            "--2021-04-17 01:22:23--  http://www.ccs.neu.edu/home/dasmith/courses/cs6120/30k.en.vec\n",
            "Resolving www.ccs.neu.edu (www.ccs.neu.edu)... 52.70.229.197\n",
            "Connecting to www.ccs.neu.edu (www.ccs.neu.edu)|52.70.229.197|:80... connected.\n",
            "HTTP request sent, awaiting response... 200 OK\n",
            "Length: 67681172 (65M)\n",
            "Saving to: ‘30k.en.vec.5’\n",
            "\n",
            "30k.en.vec.5        100%[===================>]  64.54M   252MB/s    in 0.3s    \n",
            "\n",
            "2021-04-17 01:22:24 (252 MB/s) - ‘30k.en.vec.5’ saved [67681172/67681172]\n",
            "\n",
            "--2021-04-17 01:22:24--  http://www.ccs.neu.edu/home/dasmith/courses/cs6120/30k.fr.vec\n",
            "Resolving www.ccs.neu.edu (www.ccs.neu.edu)... 52.70.229.197\n",
            "Connecting to www.ccs.neu.edu (www.ccs.neu.edu)|52.70.229.197|:80... connected.\n",
            "HTTP request sent, awaiting response... 200 OK\n",
            "Length: 67802327 (65M)\n",
            "Saving to: ‘30k.fr.vec.5’\n",
            "\n",
            "30k.fr.vec.5        100%[===================>]  64.66M   294MB/s    in 0.2s    \n",
            "\n",
            "2021-04-17 01:22:24 (294 MB/s) - ‘30k.fr.vec.5’ saved [67802327/67802327]\n",
            "\n",
            "--2021-04-17 01:22:24--  http://www.ccs.neu.edu/home/dasmith/courses/cs6120/30k.ar.vec\n",
            "Resolving www.ccs.neu.edu (www.ccs.neu.edu)... 52.70.229.197\n",
            "Connecting to www.ccs.neu.edu (www.ccs.neu.edu)|52.70.229.197|:80... connected.\n",
            "HTTP request sent, awaiting response... 200 OK\n",
            "Length: 67934954 (65M)\n",
            "Saving to: ‘30k.ar.vec.5’\n",
            "\n",
            "30k.ar.vec.5        100%[===================>]  64.79M   232MB/s    in 0.3s    \n",
            "\n",
            "2021-04-17 01:22:24 (232 MB/s) - ‘30k.ar.vec.5’ saved [67934954/67934954]\n",
            "\n",
            "--2021-04-17 01:22:24--  http://www.ccs.neu.edu/home/dasmith/courses/cs6120/30k.es.vec\n",
            "Resolving www.ccs.neu.edu (www.ccs.neu.edu)... 52.70.229.197\n",
            "Connecting to www.ccs.neu.edu (www.ccs.neu.edu)|52.70.229.197|:80... connected.\n",
            "HTTP request sent, awaiting response... 200 OK\n",
            "Length: 67762853 (65M) [application/ecmascript]\n",
            "Saving to: ‘30k.es.vec.5’\n",
            "\n",
            "30k.es.vec.5        100%[===================>]  64.62M   244MB/s    in 0.3s    \n",
            "\n",
            "2021-04-17 01:22:25 (244 MB/s) - ‘30k.es.vec.5’ saved [67762853/67762853]\n",
            "\n"
          ],
          "name": "stdout"
        }
      ]
    },
    {
      "cell_type": "markdown",
      "metadata": {
        "id": "nmuIvGpNrJPe"
      },
      "source": [
        "We'll start by loading the word vectors from their textual file format to a dictionary mapping words to numpy arrays."
      ]
    },
    {
      "cell_type": "code",
      "metadata": {
        "id": "VbWORXkP2Vvn"
      },
      "source": [
        "def vecref(s):\n",
        "  (word, srec) = s.split(' ', 1)\n",
        "  return (word, np.fromstring(srec, sep=' '))\n",
        "\n",
        "def ftvectors(fname):\n",
        "  return { k:v for (k, v) in [vecref(s) for s in open(fname)] if len(v) > 1} \n",
        "\n",
        "envec = ftvectors('30k.en.vec')\n",
        "frvec = ftvectors('30k.fr.vec')\n",
        "\n",
        "# TODO: load vectors for one more language, such as zhvec (Chinese)\n",
        "# arvec = ftvectors('30k.ar.vec')\n",
        "# devec = ftvectors('30k.de.vec')\n",
        "# ptvec = ftvectors('30k.pt.vec')\n",
        "# ruvec = ftvectors('30k.ru.vec')\n",
        "esvec = ftvectors('30k.es.vec') ## Spanish\n",
        "# vivec = ftvectors('30k.vi.vec')\n",
        "# zhvec = ftvectors('30k.zh.vec')"
      ],
      "execution_count": 116,
      "outputs": []
    },
    {
      "cell_type": "markdown",
      "metadata": {
        "id": "j88E1JdueZHc"
      },
      "source": [
        "**TODO**: Your next task is to write a simple function that takes a vector and a dictionary of vectors and finds the most similar item in the dictionary. For this assignment, a linear scan through the dictionary using your `cosim` function from above is acceptible."
      ]
    },
    {
      "cell_type": "code",
      "metadata": {
        "id": "gmdirYOjoSWV",
        "colab": {
          "base_uri": "https://localhost:8080/"
        },
        "outputId": "80b44e65-0b61-43e8-81a3-5557f1477935"
      },
      "source": [
        "## TODO: implement this search function\n",
        "def mostSimilar(vec, vecDict):\n",
        "  ## Use your cosim function from above\n",
        "  K=1\n",
        "  similarities = {k : cosim(vec, v) for k, v in vecDict.items()}\n",
        "  return (sorted(similarities.items(), key = \n",
        "             lambda kv:(kv[1], kv[0]))[-1])\n",
        "  \n",
        "## some example searches\n",
        "print(\"--------------------For English and French------------------------\")\n",
        "print([mostSimilar(envec[e], frvec) for e in ['computer', 'germany', 'matrix', 'physics', 'yeast']])\n",
        "print(\"--------------------For English and Spanish------------------------\")\n",
        "print([mostSimilar(envec[e], esvec) for e in ['computer', 'germany', 'matrix', 'physics', 'yeast']])"
      ],
      "execution_count": 117,
      "outputs": [
        {
          "output_type": "stream",
          "text": [
            "--------------------For English and French------------------------\n",
            "[('informatique', 0.5023827767603765), ('allemagne', 0.593718413875964), ('matrice', 0.5088361302065517), ('physique', 0.4555543434796394), ('fermentation', 0.3504105196166514)]\n",
            "--------------------For English and Spanish------------------------\n",
            "[('computador', 0.5013697495254124), ('alemania', 0.6352798713596078), ('matriz', 0.4784864671614966), ('física', 0.4784845095690361), ('levadura', 0.5114917452709493)]\n"
          ],
          "name": "stdout"
        }
      ]
    },
    {
      "cell_type": "markdown",
      "metadata": {
        "id": "NIKUD5qxpUMB"
      },
      "source": [
        "Some matches make more sense than others. Note that `computer` most closely matches `informatique`, the French term for *computer science*. If you looked further down the list, you would see `ordinateur`, the term for *computer*. This is one weakness of a focus only on embeddings for word *types* independent of context.\n",
        "\n",
        "To evalute cross-language embeddings more broadly, we'll look at a dataset of links between Wikipedia articles."
      ]
    },
    {
      "cell_type": "code",
      "metadata": {
        "id": "az10sIFwsEUP",
        "colab": {
          "base_uri": "https://localhost:8080/"
        },
        "outputId": "142683ec-150e-4db2-8d8a-103935e18866"
      },
      "source": [
        "!wget http://www.ccs.neu.edu/home/dasmith/courses/cs6120/links.tab\n",
        "links = [s.split() for s in open('links.tab')]"
      ],
      "execution_count": 118,
      "outputs": [
        {
          "output_type": "stream",
          "text": [
            "--2021-04-17 01:22:36--  http://www.ccs.neu.edu/home/dasmith/courses/cs6120/links.tab\n",
            "Resolving www.ccs.neu.edu (www.ccs.neu.edu)... 52.70.229.197\n",
            "Connecting to www.ccs.neu.edu (www.ccs.neu.edu)|52.70.229.197|:80... connected.\n",
            "HTTP request sent, awaiting response... 200 OK\n",
            "Length: 1408915 (1.3M)\n",
            "Saving to: ‘links.tab.4’\n",
            "\n",
            "\rlinks.tab.4           0%[                    ]       0  --.-KB/s               \rlinks.tab.4         100%[===================>]   1.34M  --.-KB/s    in 0.04s   \n",
            "\n",
            "2021-04-17 01:22:37 (34.5 MB/s) - ‘links.tab.4’ saved [1408915/1408915]\n",
            "\n"
          ],
          "name": "stdout"
        }
      ]
    },
    {
      "cell_type": "markdown",
      "metadata": {
        "id": "sqHq0hFCv8NY"
      },
      "source": [
        "This `links` variable consists of triples of `(English term, language, term in that language)`. For example, here is the link between English `academy` and French `académie`:"
      ]
    },
    {
      "cell_type": "code",
      "metadata": {
        "id": "RQ7eusdxtdsq",
        "colab": {
          "base_uri": "https://localhost:8080/"
        },
        "outputId": "9b302e5c-4155-4ec2-a8e9-b4a698502060"
      },
      "source": [
        "links[302]"
      ],
      "execution_count": 119,
      "outputs": [
        {
          "output_type": "execute_result",
          "data": {
            "text/plain": [
              "['academy', 'fr', 'académie']"
            ]
          },
          "metadata": {
            "tags": []
          },
          "execution_count": 119
        }
      ]
    },
    {
      "cell_type": "markdown",
      "metadata": {
        "id": "bYEdOQbmwql3"
      },
      "source": [
        "\n",
        "**TODO**: Evaluate the English and French embeddings by computing the proportion of English Wikipedia articles whose corresponding French article is also the closest word in embedding space. Skip English articles not covered by the word embedding dictionary. Since many articles, e.g., about named entities have the same title in English and French, compute the baseline accuracy achieved by simply echoing the English title as if it were French. Remember to iterate only over English Wikipedia articles, not the entire embedding dictionary."
      ]
    },
    {
      "cell_type": "code",
      "metadata": {
        "colab": {
          "base_uri": "https://localhost:8080/"
        },
        "id": "KAjtIwF8kL1e",
        "outputId": "ba375b10-878f-40eb-dcb0-99360c1ac2e0"
      },
      "source": [
        "count_total = 0\n",
        "count_baseline = 0\n",
        "wikiEnToFr = dict()\n",
        "english = []\n",
        "french = []\n",
        "for i in range(len(links)):\n",
        "  if links[i][1] == 'fr':\n",
        "    wikiEnToFr[links[i][0]] = links[i][2]\n",
        "    english.append(links[i][0])\n",
        "    french.append(links[i][2])\n",
        "\n",
        "for i in wikiEnToFr:\n",
        "  if i == wikiEnToFr[i]:\n",
        "    count_baseline = count_baseline + 1\n",
        "  count_total += 1\n",
        "\n",
        "baseline_accuracy = count_baseline/ count_total\n",
        "print(\"BASELINE ACCURACY for English and French : {}\".format(baseline_accuracy))\n"
      ],
      "execution_count": 136,
      "outputs": [
        {
          "output_type": "stream",
          "text": [
            "BASELINE ACCURACY for English and French : 0.6742324450298915\n"
          ],
          "name": "stdout"
        }
      ]
    },
    {
      "cell_type": "code",
      "metadata": {
        "id": "RJrTJ3ja91Z4",
        "colab": {
          "base_uri": "https://localhost:8080/"
        },
        "outputId": "b6ce9b4c-7600-4509-bf72-443f9de58fec"
      },
      "source": [
        "## TODO: Compute English-French Wikipedia retrieval accuracy.\n",
        "def base_dict(envec, lang2vec, english):\n",
        "  eval_list = []\n",
        "  for i in english:\n",
        "    similar = ''\n",
        "    if i in envec:\n",
        "      similar = mostSimilar(envec[i],lang2vec)[0]\n",
        "      eval_list.append(similar)\n",
        "    else:\n",
        "      eval_list.append(None)\n",
        "  return eval_list\n",
        "\n",
        "french_list = base_dict(envec, frvec, english)\n",
        "\n",
        "acc_count = 0\n",
        "total_count = 0\n",
        "for i in range(len(french_list)):\n",
        "  if french_list[i] == french[i]:\n",
        "    acc_count += 1\n",
        "  total_count += 1\n",
        "  \n",
        "print(\"ACCURACY FOR ENGLISH AND FRENCH :{}\", format(acc_count/ total_count))\n"
      ],
      "execution_count": 143,
      "outputs": [
        {
          "output_type": "stream",
          "text": [
            "ACCURACY FOR ENGLISH AND FRENCH :{} 0.5359205593271862\n"
          ],
          "name": "stdout"
        }
      ]
    },
    {
      "cell_type": "markdown",
      "metadata": {
        "id": "7hqd1buq-OEo"
      },
      "source": [
        "**TODO**: Compute accuracy and baseline (identity function) acccuracy for Englsih and another language besides French. Although the baseline will be lower for languages not written in the Roman alphabet (i.e., Arabic or Chinese), there are still many articles in those languages with headwords written in Roman characters."
      ]
    },
    {
      "cell_type": "code",
      "metadata": {
        "id": "ZjnKtHya-jmj",
        "colab": {
          "base_uri": "https://localhost:8080/"
        },
        "outputId": "255a839f-6a75-45a9-f382-ef4cd9eede16"
      },
      "source": [
        "## TODO: Compute English-X Wikipedia BASELINE accuracy.\n",
        "count_total = 0\n",
        "count_baseline = 0\n",
        "wikiEnToEs = dict()\n",
        "english = []\n",
        "spanish = []\n",
        "for i in range(len(links)):\n",
        "  if links[i][1] == 'es':\n",
        "    wikiEnToEs[links[i][0]] = links[i][2]\n",
        "    english.append(links[i][0])\n",
        "    spanish.append(links[i][2])\n",
        "\n",
        "for i in wikiEnToEs:\n",
        "  if i == wikiEnToEs[i]:\n",
        "    count_baseline = count_baseline + 1\n",
        "  count_total += 1\n",
        "\n",
        "baseline_accuracy = count_baseline/ count_total\n",
        "print(\"BASELINE ACCURACY for English and Spanish : {}\".format(baseline_accuracy))"
      ],
      "execution_count": 145,
      "outputs": [
        {
          "output_type": "stream",
          "text": [
            "BASELINE ACCURACY for English and Spanish : 0.5173403193612774\n"
          ],
          "name": "stdout"
        }
      ]
    },
    {
      "cell_type": "code",
      "metadata": {
        "colab": {
          "base_uri": "https://localhost:8080/"
        },
        "id": "8TrDJUOl7ofC",
        "outputId": "cb468294-46fc-4040-8d21-cba916f5a655"
      },
      "source": [
        "## TODO: Compute English-X Wikipedia retrieval accuracy.\n",
        "\n",
        "spanish_list = base_dict(envec, esvec,  english)\n",
        "\n",
        "acc_count = 0\n",
        "total_count = 0\n",
        "for i in range(len(spanish_list)):\n",
        "  if spanish_list[i] == spanish[i]:\n",
        "    acc_count += 1\n",
        "  total_count += 1\n",
        "  \n",
        "print(\"ACCURACY FOR ENGLISH AND SPANISH :{}\", format(acc_count/ total_count))"
      ],
      "execution_count": 147,
      "outputs": [
        {
          "output_type": "stream",
          "text": [
            "ACCURACY FOR ENGLISH AND SPANISH :{} 0.5432884231536926\n"
          ],
          "name": "stdout"
        }
      ]
    },
    {
      "cell_type": "markdown",
      "metadata": {
        "id": "E6z01sufFPJh"
      },
      "source": [
        "Further evaluation, if you are interested, could involve looking at the $k$ nearest neighbors of each English term to compute \"recall at 10\" or \"mean reciprocal rank at 10\"."
      ]
    }
  ]
}