{
  "nbformat": 4,
  "nbformat_minor": 0,
  "metadata": {
    "colab": {
      "name": "PS1-Shakespeare.ipynb",
      "provenance": [],
      "collapsed_sections": []
    },
    "kernelspec": {
      "name": "python3",
      "display_name": "Python 3"
    }
  },
  "cells": [
    {
      "cell_type": "markdown",
      "metadata": {
        "id": "ghmXbcymaHxC"
      },
      "source": [
        "In this experiment, you will train models to distringuish examples of two different genres of Shakespeare's plays: comedies and tragedies. (We'll ignore the histories, sonnets, etc.) Since he died four hundred years ago, Shakespeare has not written any more plays—although scraps of various other works have come to light. We are not, therefore, interested in building models simply to help categorize an unbounded stream of future documents, as we might be in other applications of text classification; rather, we are interested in what a classifier might have to tell us about what we mean by the terms “comedy” and “tragedy”.\n",
        "\n",
        "You will start by copying and running your `createBasicFeatures` function from the experiment with movie reviews. Do the features the classifier focuses on tell you much about comedy and tragedy in general?\n",
        "\n",
        "You will then implement another featurization function `createInterestingFeatures`, which will focus on only those features you think are informative for distinguishing between comedy and tragedy. Accuracy on leave-one-out cross-validation may go up, but it more important to look at the features given the highest weight by the classifier. Interpretability in machine learning, of course, may be harder to define than accuracy—although accuracy at some tasks such as summarization is hard enoough."
      ]
    },
    {
      "cell_type": "code",
      "metadata": {
        "id": "AdVS67_HNRmW",
        "colab": {
          "base_uri": "https://localhost:8080/"
        },
        "outputId": "b778cf39-6cb9-4510-ae8e-a5d85c22b78b"
      },
      "source": [
        "import json\n",
        "import requests\n",
        "from sklearn.linear_model import LogisticRegression\n",
        "from sklearn.model_selection import cross_validate,LeaveOneOut\n",
        "from sklearn.feature_extraction.text import CountVectorizer\n",
        "import numpy as np\n",
        "import pandas as pd\n",
        "from nltk import word_tokenize\n",
        "from nltk.stem import WordNetLemmatizer\n",
        "import nltk\n",
        "nltk.download('punkt')\n",
        "nltk.download('wordnet')"
      ],
      "execution_count": 68,
      "outputs": [
        {
          "output_type": "stream",
          "text": [
            "[nltk_data] Downloading package punkt to /root/nltk_data...\n",
            "[nltk_data]   Package punkt is already up-to-date!\n",
            "[nltk_data] Downloading package wordnet to /root/nltk_data...\n",
            "[nltk_data]   Unzipping corpora/wordnet.zip.\n"
          ],
          "name": "stdout"
        },
        {
          "output_type": "execute_result",
          "data": {
            "text/plain": [
              "True"
            ]
          },
          "metadata": {
            "tags": []
          },
          "execution_count": 68
        }
      ]
    },
    {
      "cell_type": "code",
      "metadata": {
        "id": "PzjMY8fYQbB6"
      },
      "source": [
        "#read in the shakespeare corpus\n",
        "def readShakespeare():\n",
        "  raw = requests.get(\"https://raw.githubusercontent.com/mutherr/CS6120-PS1-data/master/shakespeare_plays.json\").text.strip()\n",
        "  corpus = [json.loads(line) for line in raw.split(\"\\n\")]\n",
        "\n",
        "  #remove histories from the data, as we're only working with tragedies and comedies\n",
        "  corpus = [entry for entry in corpus if entry[\"genre\"] != \"history\"]\n",
        "  return corpus"
      ],
      "execution_count": 71,
      "outputs": []
    },
    {
      "cell_type": "markdown",
      "metadata": {
        "id": "v0r3oL3TdHIU"
      },
      "source": [
        "This is where you will implement two functions to featurize the data:"
      ]
    },
    {
      "cell_type": "code",
      "metadata": {
        "id": "039fPQcF7OkN"
      },
      "source": [
        "#NB: The current contents are for testing only\n",
        "#This function should return: \n",
        "#  -a sparse numpy matrix of document features\n",
        "#  -a list of the correct genre for each document\n",
        "#  -a list of the vocabulary used by the features, such that the ith term of the\n",
        "#    list is the word whose counts appear in the ith column of the matrix. \n",
        "\n",
        "# This function should create a feature representation using all tokens that\n",
        "# contain an alphabetic character.\n",
        "def createBasicFeatures(corpus):\n",
        "  #Your code here\n",
        "  data = pd.DataFrame(corpus)\n",
        "  vectorizer = CountVectorizer(\n",
        "      token_pattern = '\\w*[a-zA-Z]\\w*',\n",
        "      decode_error = 'ignore',\n",
        "      analyzer = 'word'\n",
        "  )\n",
        "  texts = vectorizer.fit_transform(data.text)\n",
        "  genres = data['genre']\n",
        "  vocab = vectorizer.get_feature_names()\n",
        "\n",
        "  \n",
        "  return texts,genres,vocab\n",
        "\n",
        "\n",
        "\n",
        "# This function can add other features you want that help classification\n",
        "# accuracy, such as bigrams, word prefixes and suffixes, etc.\n",
        "# Adding Lemmatization class improve model features and remove redundant feature\n",
        "class LemmaTokenizer:\n",
        "     def __init__(self):\n",
        "         self.wnl = WordNetLemmatizer()\n",
        "     def __call__(self, doc):\n",
        "         return [self.wnl.lemmatize(t) for t in word_tokenize(doc)]\n",
        "\n",
        "def createInterestingFeatures(corpus):\n",
        "  #Your code here\n",
        "  data = pd.DataFrame(corpus)\n",
        "  vectorizer = CountVectorizer(\n",
        "      decode_error = 'ignore',\n",
        "      token_pattern = '\\w*[a-zA-Z]\\w*',\n",
        "      analyzer = 'word',\n",
        "      min_df = 3,\n",
        "      binary = 'True',\n",
        "      tokenizer = LemmaTokenizer()\n",
        "  )\n",
        "  texts = vectorizer.fit_transform(data.text)\n",
        "  vocab = vectorizer.get_feature_names()\n",
        "  genres = data['genre']\n",
        "  return texts,genres,vocab"
      ],
      "execution_count": 72,
      "outputs": []
    },
    {
      "cell_type": "code",
      "metadata": {
        "id": "KfTBqBltXe7Y"
      },
      "source": [
        "#given a numpy matrix representation of the features for the training set, the \n",
        "# vector of true classes for each example, and the vocabulary as described \n",
        "# above, this computes the accuracy of the model using leave one out cross \n",
        "# validation and reports the most indicative features for each class\n",
        "def evaluateModel(X,y,vocab,penalty=\"l1\"):\n",
        "  #create and fit the model\n",
        "  model = LogisticRegression(penalty=penalty,solver=\"liblinear\")\n",
        "  results = cross_validate(model,X,y,cv=LeaveOneOut())\n",
        "  \n",
        "  #determine the average accuracy\n",
        "  scores = results[\"test_score\"]\n",
        "  avg_score = sum(scores)/len(scores)\n",
        "  \n",
        "  #determine the most informative features\n",
        "  # this requires us to fit the model to everything, because we need a\n",
        "  # single model to draw coefficients from, rather than 26\n",
        "  model.fit(X,y)\n",
        "  neg_class_prob_sorted = model.coef_[0, :].argsort()\n",
        "  pos_class_prob_sorted = (-model.coef_[0, :]).argsort()\n",
        "\n",
        "  termsToTake = 20\n",
        "  pos_indicators = [vocab[i] for i in neg_class_prob_sorted[:termsToTake]]\n",
        "  neg_indicators = [vocab[i] for i in pos_class_prob_sorted[:termsToTake]]\n",
        "\n",
        "  return avg_score,pos_indicators,neg_indicators\n",
        "\n",
        "def runEvaluation(X,y,vocab):\n",
        "  print(\"----------L1 Norm-----------\")\n",
        "  avg_score,pos_indicators,neg_indicators = evaluateModel(X,y,vocab,\"l1\")\n",
        "  print(\"The model's average accuracy is %f\"%avg_score)\n",
        "  print(\"The most informative terms for pos are: %s\"%pos_indicators)\n",
        "  print(\"The most informative terms for neg are: %s\"%neg_indicators)\n",
        "  #this call will fit a model with L2 normalization\n",
        "  print(\"----------L2 Norm-----------\")\n",
        "  avg_score,pos_indicators,neg_indicators = evaluateModel(X,y,vocab,\"l2\")\n",
        "  print(\"The model's average accuracy is %f\"%avg_score)\n",
        "  print(\"The most informative terms for pos are: %s\"%pos_indicators)\n",
        "  print(\"The most informative terms for neg are: %s\"%neg_indicators)\n",
        "  "
      ],
      "execution_count": 73,
      "outputs": []
    },
    {
      "cell_type": "code",
      "metadata": {
        "id": "mtlbg_aqdcW_"
      },
      "source": [
        "corpus = readShakespeare()"
      ],
      "execution_count": 74,
      "outputs": []
    },
    {
      "cell_type": "markdown",
      "metadata": {
        "id": "vpCqIhiqdhen"
      },
      "source": [
        "Run the following to train and evaluate two models with basic features:"
      ]
    },
    {
      "cell_type": "code",
      "metadata": {
        "id": "4IpJ7PKjvc8I",
        "colab": {
          "base_uri": "https://localhost:8080/"
        },
        "outputId": "8708d5f8-a14f-41da-aa18-61909111ba58"
      },
      "source": [
        "X,y,vocab = createBasicFeatures(corpus)\n",
        "runEvaluation(X, y, vocab)"
      ],
      "execution_count": 75,
      "outputs": [
        {
          "output_type": "stream",
          "text": [
            "----------L1 Norm-----------\n",
            "The model's average accuracy is 0.615385\n",
            "The most informative terms for pos are: ['you', 'helena', 'duke', 'prospero', 'i', 'sir', 'leontes', 'a', 'private', 'preserving', 'preservers', 'preserver', 'preserved', 'preserve', 'preservative', 'president', 'preservation', 'presents', 'presentment', 'presently']\n",
            "The most informative terms for neg are: ['him', 's', 'iago', 'imogen', 'brutus', 'o', 'lear', 'ham', 'and', 'rom', 'the', 'to', 'press', 'president', 'preserving', 'preservers', 'preserved', 'pressed', 'preserve', 'preservative']\n",
            "----------L2 Norm-----------\n",
            "The model's average accuracy is 0.769231\n",
            "The most informative terms for pos are: ['i', 'you', 'duke', 'prospero', 'a', 'helena', 'your', 'antonio', 'sir', 'leontes', 'hermia', 'for', 'lysander', 'ariel', 'sebastian', 'demetrius', 'camillo', 'stephano', 'me', 'parolles']\n",
            "The most informative terms for neg are: ['iago', 'othello', 's', 'him', 'imogen', 'what', 'lear', 'brutus', 'his', 'cassio', 'o', 'ham', 'our', 'desdemona', 'rom', 'romeo', 'posthumus', 'nurse', 'caesar', 'thy']\n"
          ],
          "name": "stdout"
        }
      ]
    },
    {
      "cell_type": "markdown",
      "metadata": {
        "id": "_FmW9F6ZdoyM"
      },
      "source": [
        "Run the following to train and evaluate two models with features that are interesting for distinguishing comedy and tragedy:"
      ]
    },
    {
      "cell_type": "code",
      "metadata": {
        "id": "BW0Ajs2MdtIC",
        "colab": {
          "base_uri": "https://localhost:8080/"
        },
        "outputId": "3cbbf05c-f25b-419e-c054-0a453a9e25a4"
      },
      "source": [
        "X,y,vocab = createInterestingFeatures(corpus)\n",
        "runEvaluation(X, y, vocab)"
      ],
      "execution_count": 76,
      "outputs": [
        {
          "output_type": "stream",
          "text": [
            "----------L1 Norm-----------\n",
            "The model's average accuracy is 0.769231\n",
            "The most informative terms for pos are: ['duke', 'tarry', 'jest', 'welkin', 'credit', 'studied', 'pretty', 'prettily', 'prettiest', 'pretend', 'pretence', 'presume', 'press', 'preserver', 'preserved', 'preserve', 'presenting', 'presently', 'prevail', 'presented']\n",
            "The most informative terms for neg are: ['slain', 'closet', 'pledge', 'mutiny', 'camp', 'bleeding', 'purge', 'prettily', 'prettiest', 'pretend', 'pretence', 'presume', 'press', 'preserver', 'preserved', 'preserve', 'preserv', 'presenting', 'pretty', 'presented']\n",
            "----------L2 Norm-----------\n",
            "The model's average accuracy is 0.923077\n",
            "The most informative terms for pos are: ['duke', 'apparel', 'jest', 'garment', 'commodity', 'reasonable', 'velvet', 'studied', 'mutton', 'horn', 'coat', 'credit', 'marvellous', 'lower', 'impossible', 'clock', 'shallow', 'imagination', 'tarry', 'lying']\n",
            "The most informative terms for neg are: ['slain', 'camp', 'fierce', 'closet', 'eagle', 'craves', 'bleeding', 'march', 'pledge', 'tragedy', 'resolution', 'destruction', 'bleed', 'drum', 'mutiny', 'warlike', 'hill', 'dreamt', 'drug', 'faint']\n"
          ],
          "name": "stdout"
        }
      ]
    },
    {
      "cell_type": "markdown",
      "metadata": {
        "id": "alViOE9cIOqz"
      },
      "source": [
        "## For understanding the context and differentiating the examples in genres like comedy and tragedies. I basically infer that comedy genre would contain the features that are positive in nature, that is something that can express happiness whereas in tragedies the features could be of negative context as we see there are few features like bleeding etc.\r\n",
        "\r\n",
        "\r\n",
        "1.   In the **BasicFeatures**, I have used the similar function that was used in the previous part and we can clearly observe from the most informative terms that we can't infer anything about the genre from them, the most informative feature for comedy is 'you' which doesn't make any sense contextually. Also, another observation is there are similar features like 'preserving', 'preserved' in both classes. Therefore, our model is performing not well and even features are not informative. The reported accuracy for the evalutation model, **Logistic Regression with L1 norm is 61.53% and L2 norm is 76.9%**\r\n",
        "2.   In the **createInterestingFeatures**, I have added few more parameters in the COuntVectorizer() so as to make the model more informative and contextually represent the genre. I have added **min_df** parameter so as to remove the unimportant tokens from the list of features. For example min_df = 3, wil lvremove all the tokens from the sparse matrix whose count is <=3, and this particularly improved the model accuracy for L2 norm to a great extend as the probabilities will change significantly. Also, to remove the redundant features I have added Lemmatization as well, which significantly improved the informative feature list. We can observe that informative terms now contextually understand the terms comedies and tragedies as we see more off words which denotes \"Happiness\" for the genre \"comedies\" and negative words like ['bleeding','destruction','mutiny'] for genre \"tragedies\". The reported accuracy for the evalutation model, **Logistic Regression with L1 norm is 76.92% and L2 norm is 92.30%**\r\n",
        "\r\n"
      ]
    },
    {
      "cell_type": "code",
      "metadata": {
        "id": "Qc9CdTX0CxM9"
      },
      "source": [
        ""
      ],
      "execution_count": null,
      "outputs": []
    }
  ]
}