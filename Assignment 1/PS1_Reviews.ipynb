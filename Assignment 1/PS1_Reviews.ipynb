{
  "nbformat": 4,
  "nbformat_minor": 0,
  "metadata": {
    "colab": {
      "name": "PS1-Reviews.ipynb",
      "provenance": [],
      "collapsed_sections": []
    },
    "kernelspec": {
      "name": "python3",
      "display_name": "Python 3"
    }
  },
  "cells": [
    {
      "cell_type": "markdown",
      "metadata": {
        "id": "Jc2R3x6QSIFi"
      },
      "source": [
        "In this experiment, you will explore the accuracy of sentiment classificaiton using different feature representations of text documents.\n",
        "\n",
        "First, you will implement `createBasicFeatures`, which creates a sparse matrix representation of a collection of documents. For this exercise, you should have a feature for each word containing at least one alphabetic character. You may use the `numpy` and `sklearn` packages to help with implementing a sparse matrix.\n",
        "\n",
        "Then, you will implement `createFancyFeatures`, which can specify at any other features you choose to help improve performance on the classification task.\n",
        "\n",
        "The two code blocks at the end train and evaluate two models—logistic regression with L1 and L2 regularization—using your featurization functions. Besides held-out classification accuracy with 10-fold cross-validation, you will also see the features in each class given high weights by the model.\n",
        "\n",
        "A helpful resource for getting up to speed with vector representations of documents is the first two chapters of Delip Rao and Brian McMahan, _Natural Language Processing with PyTorch_, O'Reilly, 2019.  You should be able to <a href=\"https://learning.oreilly.com/library/view/natural-language-processing/9781491978221/\">read it online</a> via the Northeastern Library's subscription using a <tt>northeastern.edu</tt> email address."
      ]
    },
    {
      "cell_type": "code",
      "metadata": {
        "id": "AdVS67_HNRmW"
      },
      "source": [
        "import json\n",
        "import requests\n",
        "from sklearn.linear_model import LogisticRegression\n",
        "from sklearn.model_selection import cross_validate,LeaveOneOut,KFold\n",
        "import numpy as np"
      ],
      "execution_count": null,
      "outputs": []
    },
    {
      "cell_type": "code",
      "metadata": {
        "id": "PzjMY8fYQbB6",
        "cellView": "both"
      },
      "source": [
        "# read in the movie review corpus\n",
        "def readReviews():\n",
        "  raw = requests.get(\"https://raw.githubusercontent.com/mutherr/CS6120-PS1-data/master/cornell_reviews.json\").text.strip()\n",
        "  corpus = [json.loads(line) for line in raw.split(\"\\n\")]\n",
        "\n",
        "  return corpus"
      ],
      "execution_count": null,
      "outputs": []
    },
    {
      "cell_type": "code",
      "metadata": {
        "id": "HwjF1H7SIeZ6"
      },
      "source": [
        "# corpus = readReviews()\r\n",
        "from sklearn.feature_extraction.text import CountVectorizer\r\n",
        "import pandas as pd\r\n"
      ],
      "execution_count": null,
      "outputs": []
    },
    {
      "cell_type": "markdown",
      "metadata": {
        "id": "Qvd3I95FT01D"
      },
      "source": [
        "This is where you will implement two functions to featurize the data."
      ]
    },
    {
      "cell_type": "code",
      "metadata": {
        "id": "039fPQcF7OkN"
      },
      "source": [
        "# NB: The current contents are for testing only\n",
        "# This function should return: \n",
        "#  -a sparse numpy matrix of document features\n",
        "#  -a list of the correct class for each document\n",
        "#  -a list of the vocabulary used by the features, such that the ith term of the\n",
        "#    list is the word whose counts appear in the ith column of the matrix. \n",
        "\n",
        "# This function should create a feature representation using all tokens that\n",
        "# contain an alphabetic character.\n",
        "def createBasicFeatures(corpus):\n",
        "  #Your code here\n",
        "  data = pd.DataFrame(corpus)\n",
        "  vectorizer = CountVectorizer(\n",
        "      token_pattern = '\\w*[a-zA-Z]\\w*',\n",
        "      decode_error = 'ignore',\n",
        "      analyzer = 'word'\n",
        "  )\n",
        "  texts = vectorizer.fit_transform(data.text)\n",
        "  classes = data['class']\n",
        "  vocab = vectorizer.get_feature_names()\n",
        "  return texts,classes,vocab\n",
        "\n",
        "# This function can add other features you want that help classification\n",
        "# accuracy, such as bigrams, word prefixes and suffixes, etc.\n",
        "def createFancyFeatures(corpus):\n",
        "  #Your code here\n",
        "  data = pd.DataFrame(corpus)\n",
        "  vectorizer = CountVectorizer(\n",
        "      decode_error = 'ignore',\n",
        "      token_pattern = '\\w*[a-zA-Z]\\w*',\n",
        "      analyzer = 'word',\n",
        "      ngram_range = (1,2),\n",
        "      binary = 'True'\n",
        "  )\n",
        "  texts = vectorizer.fit_transform(data.text)\n",
        "  vocab = vectorizer.get_feature_names()\n",
        "  classes = data['class']\n",
        "  return texts,classes,vocab"
      ],
      "execution_count": null,
      "outputs": []
    },
    {
      "cell_type": "code",
      "metadata": {
        "id": "KfTBqBltXe7Y"
      },
      "source": [
        "# given a numpy matrix representation of the features for the training set, the \n",
        "# vector of true classes for each example, and the vocabulary as described \n",
        "# above, this computes the accuracy of the model using leave one out cross \n",
        "# validation and reports the most indicative features for each class\n",
        "\n",
        "def evaluateModel(X,y,vocab,penalty=\"l1\"):\n",
        "  # create and fit the model\n",
        "  model = LogisticRegression(penalty=penalty,solver=\"liblinear\")\n",
        "  results = cross_validate(model,X,y,cv=KFold(n_splits=10, shuffle=True, random_state=1))\n",
        "  \n",
        "  # determine the average accuracy\n",
        "  scores = results[\"test_score\"]\n",
        "  avg_score = sum(scores)/len(scores)\n",
        "  \n",
        "  # determine the most informative features\n",
        "  # this requires us to fit the model to everything, because we need a\n",
        "  # single model to draw coefficients from, rather than 26\n",
        "  model.fit(X,y)\n",
        "  class0_weight_sorted = model.coef_[0, :].argsort()\n",
        "  class1_weight_sorted = (-model.coef_[0, :]).argsort()\n",
        "\n",
        "  termsToTake = 20\n",
        "  class0_indicators = [vocab[i] for i in class0_weight_sorted[:termsToTake]]\n",
        "  class1_indicators = [vocab[i] for i in class1_weight_sorted[:termsToTake]]\n",
        "\n",
        "  if model.classes_[0] == \"pos\":\n",
        "    return avg_score,class0_indicators,class1_indicators\n",
        "  else:\n",
        "    return avg_score,class1_indicators,class0_indicators\n",
        "\n",
        "def runEvaluation(X,y,vocab):\n",
        "  print(\"----------L1 Norm-----------\")\n",
        "  avg_score,pos_indicators,neg_indicators = evaluateModel(X,y,vocab,\"l1\")\n",
        "  print(\"The model's average accuracy is %f\"%avg_score)\n",
        "  print(\"The most informative terms for pos are: %s\"%pos_indicators)\n",
        "  print(\"The most informative terms for neg are: %s\"%neg_indicators)\n",
        "  #this call will fit a model with L2 normalization\n",
        "  print(\"----------L2 Norm-----------\")\n",
        "  avg_score,pos_indicators,neg_indicators = evaluateModel(X,y,vocab,\"l2\")\n",
        "  print(\"The model's average accuracy is %f\"%avg_score)\n",
        "  print(\"The most informative terms for pos are: %s\"%pos_indicators)\n",
        "  print(\"The most informative terms for neg are: %s\"%neg_indicators)"
      ],
      "execution_count": null,
      "outputs": []
    },
    {
      "cell_type": "code",
      "metadata": {
        "id": "VWWq5VgmECKV"
      },
      "source": [
        "corpus = readReviews()"
      ],
      "execution_count": null,
      "outputs": []
    },
    {
      "cell_type": "markdown",
      "metadata": {
        "id": "72OUet02TjBo"
      },
      "source": [
        "Run the following to train and evaluate two models using basic features:"
      ]
    },
    {
      "cell_type": "code",
      "metadata": {
        "id": "4IpJ7PKjvc8I",
        "colab": {
          "base_uri": "https://localhost:8080/"
        },
        "outputId": "245b5f64-f309-4cb2-8f65-511b4eca8eaa"
      },
      "source": [
        "X,y,vocab = createBasicFeatures(corpus)\n",
        "runEvaluation(X, y, vocab)"
      ],
      "execution_count": null,
      "outputs": [
        {
          "output_type": "stream",
          "text": [
            "----------L1 Norm-----------\n",
            "The model's average accuracy is 0.827000\n",
            "The most informative terms for pos are: ['flaws', 'memorable', 'terrific', 'edge', 'sherri', 'excellent', 'perfectly', 'masterpiece', 'enjoyable', 'using', 'fun', 'overall', 'gas', 'solid', 'command', 'quite', 'follows', 'fantastic', 'different', 'liar']\n",
            "The most informative terms for neg are: ['waste', 'mess', 'ridiculous', 'lame', 'worst', 'headed', 'awful', 'unfortunately', 'cheap', 'write', 'boring', 'superior', 'tedious', 'bad', 'jesse', 'terrible', 'poor', 'maybe', 'looks', 'jakob']\n",
            "----------L2 Norm-----------\n",
            "The model's average accuracy is 0.833000\n",
            "The most informative terms for pos are: ['fun', 'great', 'back', 'quite', 'well', 'excellent', 'overall', 'seen', 'american', 'perfectly', 'yet', 'memorable', 'terrific', 'job', 'pulp', 'true', 'very', 'performances', 'solid', 'different']\n",
            "The most informative terms for neg are: ['bad', 'unfortunately', 'worst', 'waste', 'nothing', 'only', 'script', 'boring', 'awful', 'plot', 'reason', 'poor', 'looks', 'supposed', 'lame', 'mess', 'women', 'anyway', 'should', 'ridiculous']\n"
          ],
          "name": "stdout"
        }
      ]
    },
    {
      "cell_type": "markdown",
      "metadata": {
        "id": "AOhbm_mw148O"
      },
      "source": [
        "To analyze the accuracy of the model using the BasicFeatures representations of the document, I have used the CountVecotrizer for computing the matrix which contains the token counts. I have used three parameters within the CountVectorizer: \r\n",
        "> **token_pattern** - regex keeps a check of at least one alphabetic character in the feature \\\\\r\n",
        ">**analyzer** - 'word' makes sure that feature are made of words and not characters, \\\\\r\n",
        ">**decode_error** = 'ignore' provides instruction on what to do if a byte sequence is given to analyze that contains characters not of the given \r\n",
        "encoding \\\\\r\n",
        "\r\n",
        "After running the runEvaluation the accuracy obtained by the model by running Logistic Regression with L1 Norm  is **82.70%** and with L2 Norm is **83.300%**\r\n",
        "\r\n"
      ]
    },
    {
      "cell_type": "markdown",
      "metadata": {
        "id": "4sjxLL2PTrJi"
      },
      "source": [
        "Run the following to train and evaluate two models using extended features:"
      ]
    },
    {
      "cell_type": "code",
      "metadata": {
        "id": "1iHudrPb5NPY",
        "colab": {
          "base_uri": "https://localhost:8080/"
        },
        "outputId": "c5b10ee1-f265-459a-f223-fb8e13c0e449"
      },
      "source": [
        "X,y,vocab = createFancyFeatures(corpus)\n",
        "runEvaluation(X, y, vocab)"
      ],
      "execution_count": null,
      "outputs": [
        {
          "output_type": "stream",
          "text": [
            "----------L1 Norm-----------\n",
            "The model's average accuracy is 0.830500\n",
            "The most informative terms for pos are: ['memorable', 'terrific', 'wonderfully', 'pace', 'hilarious', 'flaws', 's life', 'help of', 'overall', 'equally', 'perfectly', 'even if', 'films the', 'entertaining', 'deserves', 'edge', 'visually', 'thanks to', 'others', 'today']\n",
            "The most informative terms for neg are: ['awful', 'mess', 'worst', 'boring', 'lame', 'ridiculous', 'to work', 'flat', 'terrible', 'unfortunately', 'poor', 'headed', 'to show', 'potential', 'should have', 'or even', 'studio', 'cheap', 'ends up', 'none']\n",
            "----------L2 Norm-----------\n",
            "The model's average accuracy is 0.875000\n",
            "The most informative terms for pos are: ['very', 'well', 'great', 'others', 'hilarious', 'fun', 'also', 'but it', 'he is', 'performances', 'memorable', 'many', 'both', 'seen', 'as the', 'one of', 'and it', 'overall', 'yet', 'terrific']\n",
            "The most informative terms for neg are: ['bad', 'nothing', 'worst', 'plot', 'unfortunately', 'boring', 'script', 'have', 'only', 'waste', 'awful', 'poor', 'the only', 'mess', 'supposed', 'should have', 'the worst', 'ridiculous', 'supposed to', 'should']\n"
          ],
          "name": "stdout"
        }
      ]
    },
    {
      "cell_type": "markdown",
      "metadata": {
        "id": "bNTeCt2F3353"
      },
      "source": [
        "To analyze the accuracy of the model using the createFancyFeatures representations of the document, I have used the CountVecotrizer for computing the matrix which contains the token counts. I have used five parameters within the CountVectorizer:\r\n",
        "\r\n",
        ">**token_pattern** - regex keeps a check of at least one alphabetic character in the feature \\\\\r\n",
        ">**analyzer** - 'word' makes sure that feature are made of words and not \r\n",
        "characters \\\\\r\n",
        ">**decode_error** = 'ignore' provides instruction on what to do if a byte sequence is given to analyze that contains characters not of \r\n",
        "the given encoding \\\\\r\n",
        ">**ngram_range** - (1,2) compute both unigram and bigram tokens \\\\\r\n",
        ">**binary** = 'True', to imporve the accuracy of the model as If True, all non zero counts are set to 1. This is useful for discrete probabilistic models that model binary events rather \r\n",
        "than integer counts.\\\\\r\n",
        "\r\n",
        "\r\n",
        "After running the runEvaluation the accuracy obtained by the model by running Logistic Regression with L1 Norm is 83.10% and with L2 Norm is 87.50% \\\\\r\n",
        "Even by using the FancyFeatures model didn't significantly, the unigrams and bigrams improved the model to a small extend by adding more context to it."
      ]
    }
  ]
}