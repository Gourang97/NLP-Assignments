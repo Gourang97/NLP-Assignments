{
  "nbformat": 4,
  "nbformat_minor": 0,
  "metadata": {
    "colab": {
      "name": "Copy of ner-decoder.ipynb",
      "provenance": [],
      "collapsed_sections": []
    },
    "kernelspec": {
      "name": "python3",
      "display_name": "Python 3"
    },
    "accelerator": "GPU"
  },
  "cells": [
    {
      "cell_type": "markdown",
      "metadata": {
        "id": "IsY0LJOIT_cG"
      },
      "source": [
        "# Implementing a Viterbi Decoder and Evaluation for Sequence Labeling\n",
        "\n",
        "In this assignment, you will build a Viterbi decoder for an LSTM named-entity recognition model. As we mentioned in class, recurrent and bidirectional recurrent neural networks, of which LSTMs are the most common examples, can be used to perform sequence labeling. Although these models encode information from the surrounding words in order to make predictions, there are no \"hard\" constraints on what tags can appear where.\n",
        "\n",
        "There hard constraints are particularly important for tasks that label spans of more than one token. The most common example of a span-labeling task is named-entity recognition (NER). As described in Eisenstein, Jurafksy & Martin, and other texts, the goal of NER is to label spans of one or more words as _mentions_ of an _entity_, such as a person, location, organization, etc.\n",
        "\n",
        "The most common approach to NER is to reduce it to a sequence-labeling task, where each token in the input is labeled either with an `O`, if it is \"outside\" any named-entity span, or with `B-TYPE`, if it is the first token in an entity of type `TYPE`, or with `I-TYPE`, if it is the second or later token in an entity of type `TYPE`. Distinguishing between the first and later tokens of an entity allow us to identify distinct entity spans even when they are adjacent.\n",
        "\n",
        "Common values of `TYPE` include `PER` for person, `LOC` for location, `DATE` for date, and so on. In the dataset we load below, there are 17 distinct types.\n",
        "\n",
        "The span-labeling scheme just described implies that the labels on tokens must obey certain constraints: the tag `I-PER` must follow either `B-PER` or another `I-PER`. It cannot follow `O`, `B-LOC`, or `I-LOC`, i.e., a tag for a different entity type. By themselves, LSTMs or bidirectional LSTMs cannot directly enforce these constraints. This is one reason why conditional random fields (CRFs), which _can_ enforce these constraints, are often layered on top of these recurrent models.\n",
        "\n",
        "In this assignment, you will implement the simplest possible CRF: a CRF so simple that it does not require any training. Rather, it will assign weight 1 to any sequence of tags that obeys the constraints and weight 0 to any sequence of tags that violates them. The inputs to the CRF, which are analogous to the emission probabilities in an HMM, will come from an LSTM.\n",
        "\n",
        "But first, in order to test your decoder, you will also implement some functions to evaluate the output of an NER system according to two metrics:\n",
        "1. You will count the number of _violations_ of the NER label constraints, i.e., how many times `I-TYPE` follows `O` or a tag of a different type or occurs at the beginning of a sentence. This number will be greater than 0 in the raw LSTM output, but should be 0 for your CRF output.\n",
        "1. You will compute the _span-level_ precision, recall, and F1 of NER output. Although the baseline LSTM was trained to achieve high _token-level_ accuracy, this metric can be misleadingly high, since so many tokens are correctly labeled `O`. In other words, what proportion of spans predicted by the model line up exactly with spans in the gold standard, and what proportion of spans in the gold standard were predicted by the model? Define _span_ as a sequence of tags that starts with a `B-TYPE` followed by zero or more `I-TYPE` tags. Sequences solely of `I-TYPE` tags don't count as spans.For more, see the original task definition: https://www.aclweb.org/anthology/W03-0419/.\n",
        "\n",
        "We start with loading some code and data and the describe your tasks in more detail."
      ]
    },
    {
      "cell_type": "markdown",
      "metadata": {
        "id": "Dhnn49QEU_Ik"
      },
      "source": [
        "## Set Up Dependencies and Definitions"
      ]
    },
    {
      "cell_type": "code",
      "metadata": {
        "id": "QJINX1MwOLBT",
        "colab": {
          "base_uri": "https://localhost:8080/"
        },
        "outputId": "5ff745bc-7fff-4745-d24b-99a8d9a2beed"
      },
      "source": [
        "!pip install --upgrade allennlp==0.9.0\n",
        "!conda install -c conda-forge spacy\n",
        "!python -m spacy download en_core_web_sm\n",
        "import spacy\n",
        "print(spacy.__version__)"
      ],
      "execution_count": 71,
      "outputs": [
        {
          "output_type": "stream",
          "text": [
            "Requirement already up-to-date: allennlp==0.9.0 in /usr/local/lib/python3.7/dist-packages (0.9.0)\n",
            "Requirement already satisfied, skipping upgrade: flask>=1.0.2 in /usr/local/lib/python3.7/dist-packages (from allennlp==0.9.0) (1.1.2)\n",
            "Requirement already satisfied, skipping upgrade: scipy in /usr/local/lib/python3.7/dist-packages (from allennlp==0.9.0) (1.4.1)\n",
            "Requirement already satisfied, skipping upgrade: pytest in /usr/local/lib/python3.7/dist-packages (from allennlp==0.9.0) (3.6.4)\n",
            "Requirement already satisfied, skipping upgrade: ftfy in /usr/local/lib/python3.7/dist-packages (from allennlp==0.9.0) (5.9)\n",
            "Requirement already satisfied, skipping upgrade: tensorboardX>=1.2 in /usr/local/lib/python3.7/dist-packages (from allennlp==0.9.0) (2.1)\n",
            "Requirement already satisfied, skipping upgrade: responses>=0.7 in /usr/local/lib/python3.7/dist-packages (from allennlp==0.9.0) (0.13.2)\n",
            "Requirement already satisfied, skipping upgrade: matplotlib>=2.2.3 in /usr/local/lib/python3.7/dist-packages (from allennlp==0.9.0) (3.2.2)\n",
            "Requirement already satisfied, skipping upgrade: editdistance in /usr/local/lib/python3.7/dist-packages (from allennlp==0.9.0) (0.5.3)\n",
            "Requirement already satisfied, skipping upgrade: pytorch-transformers==1.1.0 in /usr/local/lib/python3.7/dist-packages (from allennlp==0.9.0) (1.1.0)\n",
            "Requirement already satisfied, skipping upgrade: scikit-learn in /usr/local/lib/python3.7/dist-packages (from allennlp==0.9.0) (0.22.2.post1)\n",
            "Requirement already satisfied, skipping upgrade: requests>=2.18 in /usr/local/lib/python3.7/dist-packages (from allennlp==0.9.0) (2.23.0)\n",
            "Requirement already satisfied, skipping upgrade: overrides in /usr/local/lib/python3.7/dist-packages (from allennlp==0.9.0) (3.1.0)\n",
            "Requirement already satisfied, skipping upgrade: boto3 in /usr/local/lib/python3.7/dist-packages (from allennlp==0.9.0) (1.17.41)\n",
            "Requirement already satisfied, skipping upgrade: sqlparse>=0.2.4 in /usr/local/lib/python3.7/dist-packages (from allennlp==0.9.0) (0.4.1)\n",
            "Requirement already satisfied, skipping upgrade: parsimonious>=0.8.0 in /usr/local/lib/python3.7/dist-packages (from allennlp==0.9.0) (0.8.1)\n",
            "Requirement already satisfied, skipping upgrade: word2number>=1.1 in /usr/local/lib/python3.7/dist-packages (from allennlp==0.9.0) (1.1)\n",
            "Requirement already satisfied, skipping upgrade: spacy<2.2,>=2.1.0 in /usr/local/lib/python3.7/dist-packages (from allennlp==0.9.0) (2.1.9)\n",
            "Requirement already satisfied, skipping upgrade: flaky in /usr/local/lib/python3.7/dist-packages (from allennlp==0.9.0) (3.7.0)\n",
            "Requirement already satisfied, skipping upgrade: jsonnet>=0.10.0; sys_platform != \"win32\" in /usr/local/lib/python3.7/dist-packages (from allennlp==0.9.0) (0.17.0)\n",
            "Requirement already satisfied, skipping upgrade: numpydoc>=0.8.0 in /usr/local/lib/python3.7/dist-packages (from allennlp==0.9.0) (1.1.0)\n",
            "Requirement already satisfied, skipping upgrade: conllu==1.3.1 in /usr/local/lib/python3.7/dist-packages (from allennlp==0.9.0) (1.3.1)\n",
            "Requirement already satisfied, skipping upgrade: nltk in /usr/local/lib/python3.7/dist-packages (from allennlp==0.9.0) (3.2.5)\n",
            "Requirement already satisfied, skipping upgrade: numpy in /usr/local/lib/python3.7/dist-packages (from allennlp==0.9.0) (1.19.5)\n",
            "Requirement already satisfied, skipping upgrade: flask-cors>=3.0.7 in /usr/local/lib/python3.7/dist-packages (from allennlp==0.9.0) (3.0.10)\n",
            "Requirement already satisfied, skipping upgrade: gevent>=1.3.6 in /usr/local/lib/python3.7/dist-packages (from allennlp==0.9.0) (21.1.2)\n",
            "Requirement already satisfied, skipping upgrade: torch>=1.2.0 in /usr/local/lib/python3.7/dist-packages (from allennlp==0.9.0) (1.8.1+cu101)\n",
            "Requirement already satisfied, skipping upgrade: unidecode in /usr/local/lib/python3.7/dist-packages (from allennlp==0.9.0) (1.2.0)\n",
            "Requirement already satisfied, skipping upgrade: tqdm>=4.19 in /usr/local/lib/python3.7/dist-packages (from allennlp==0.9.0) (4.41.1)\n",
            "Requirement already satisfied, skipping upgrade: h5py in /usr/local/lib/python3.7/dist-packages (from allennlp==0.9.0) (2.10.0)\n",
            "Requirement already satisfied, skipping upgrade: pytz>=2017.3 in /usr/local/lib/python3.7/dist-packages (from allennlp==0.9.0) (2018.9)\n",
            "Requirement already satisfied, skipping upgrade: pytorch-pretrained-bert>=0.6.0 in /usr/local/lib/python3.7/dist-packages (from allennlp==0.9.0) (0.6.2)\n",
            "Requirement already satisfied, skipping upgrade: jsonpickle in /usr/local/lib/python3.7/dist-packages (from allennlp==0.9.0) (2.0.0)\n",
            "Requirement already satisfied, skipping upgrade: Werkzeug>=0.15 in /usr/local/lib/python3.7/dist-packages (from flask>=1.0.2->allennlp==0.9.0) (1.0.1)\n",
            "Requirement already satisfied, skipping upgrade: Jinja2>=2.10.1 in /usr/local/lib/python3.7/dist-packages (from flask>=1.0.2->allennlp==0.9.0) (2.11.3)\n",
            "Requirement already satisfied, skipping upgrade: click>=5.1 in /usr/local/lib/python3.7/dist-packages (from flask>=1.0.2->allennlp==0.9.0) (7.1.2)\n",
            "Requirement already satisfied, skipping upgrade: itsdangerous>=0.24 in /usr/local/lib/python3.7/dist-packages (from flask>=1.0.2->allennlp==0.9.0) (1.1.0)\n",
            "Requirement already satisfied, skipping upgrade: py>=1.5.0 in /usr/local/lib/python3.7/dist-packages (from pytest->allennlp==0.9.0) (1.10.0)\n",
            "Requirement already satisfied, skipping upgrade: atomicwrites>=1.0 in /usr/local/lib/python3.7/dist-packages (from pytest->allennlp==0.9.0) (1.4.0)\n",
            "Requirement already satisfied, skipping upgrade: six>=1.10.0 in /usr/local/lib/python3.7/dist-packages (from pytest->allennlp==0.9.0) (1.15.0)\n",
            "Requirement already satisfied, skipping upgrade: setuptools in /usr/local/lib/python3.7/dist-packages (from pytest->allennlp==0.9.0) (54.2.0)\n",
            "Requirement already satisfied, skipping upgrade: more-itertools>=4.0.0 in /usr/local/lib/python3.7/dist-packages (from pytest->allennlp==0.9.0) (8.7.0)\n",
            "Requirement already satisfied, skipping upgrade: pluggy<0.8,>=0.5 in /usr/local/lib/python3.7/dist-packages (from pytest->allennlp==0.9.0) (0.7.1)\n",
            "Requirement already satisfied, skipping upgrade: attrs>=17.4.0 in /usr/local/lib/python3.7/dist-packages (from pytest->allennlp==0.9.0) (20.3.0)\n",
            "Requirement already satisfied, skipping upgrade: wcwidth in /usr/local/lib/python3.7/dist-packages (from ftfy->allennlp==0.9.0) (0.2.5)\n",
            "Requirement already satisfied, skipping upgrade: protobuf>=3.8.0 in /usr/local/lib/python3.7/dist-packages (from tensorboardX>=1.2->allennlp==0.9.0) (3.12.4)\n",
            "Requirement already satisfied, skipping upgrade: urllib3>=1.25.10 in /usr/local/lib/python3.7/dist-packages (from responses>=0.7->allennlp==0.9.0) (1.26.4)\n",
            "Requirement already satisfied, skipping upgrade: kiwisolver>=1.0.1 in /usr/local/lib/python3.7/dist-packages (from matplotlib>=2.2.3->allennlp==0.9.0) (1.3.1)\n",
            "Requirement already satisfied, skipping upgrade: python-dateutil>=2.1 in /usr/local/lib/python3.7/dist-packages (from matplotlib>=2.2.3->allennlp==0.9.0) (2.8.1)\n",
            "Requirement already satisfied, skipping upgrade: cycler>=0.10 in /usr/local/lib/python3.7/dist-packages (from matplotlib>=2.2.3->allennlp==0.9.0) (0.10.0)\n",
            "Requirement already satisfied, skipping upgrade: pyparsing!=2.0.4,!=2.1.2,!=2.1.6,>=2.0.1 in /usr/local/lib/python3.7/dist-packages (from matplotlib>=2.2.3->allennlp==0.9.0) (2.4.7)\n",
            "Requirement already satisfied, skipping upgrade: regex in /usr/local/lib/python3.7/dist-packages (from pytorch-transformers==1.1.0->allennlp==0.9.0) (2019.12.20)\n",
            "Requirement already satisfied, skipping upgrade: sentencepiece in /usr/local/lib/python3.7/dist-packages (from pytorch-transformers==1.1.0->allennlp==0.9.0) (0.1.95)\n",
            "Requirement already satisfied, skipping upgrade: joblib>=0.11 in /usr/local/lib/python3.7/dist-packages (from scikit-learn->allennlp==0.9.0) (1.0.1)\n",
            "Requirement already satisfied, skipping upgrade: chardet<4,>=3.0.2 in /usr/local/lib/python3.7/dist-packages (from requests>=2.18->allennlp==0.9.0) (3.0.4)\n",
            "Requirement already satisfied, skipping upgrade: certifi>=2017.4.17 in /usr/local/lib/python3.7/dist-packages (from requests>=2.18->allennlp==0.9.0) (2020.12.5)\n",
            "Requirement already satisfied, skipping upgrade: idna<3,>=2.5 in /usr/local/lib/python3.7/dist-packages (from requests>=2.18->allennlp==0.9.0) (2.10)\n",
            "Requirement already satisfied, skipping upgrade: s3transfer<0.4.0,>=0.3.0 in /usr/local/lib/python3.7/dist-packages (from boto3->allennlp==0.9.0) (0.3.6)\n",
            "Requirement already satisfied, skipping upgrade: botocore<1.21.0,>=1.20.41 in /usr/local/lib/python3.7/dist-packages (from boto3->allennlp==0.9.0) (1.20.41)\n",
            "Requirement already satisfied, skipping upgrade: jmespath<1.0.0,>=0.7.1 in /usr/local/lib/python3.7/dist-packages (from boto3->allennlp==0.9.0) (0.10.0)\n",
            "Requirement already satisfied, skipping upgrade: cymem<2.1.0,>=2.0.2 in /usr/local/lib/python3.7/dist-packages (from spacy<2.2,>=2.1.0->allennlp==0.9.0) (2.0.5)\n",
            "Requirement already satisfied, skipping upgrade: wasabi<1.1.0,>=0.2.0 in /usr/local/lib/python3.7/dist-packages (from spacy<2.2,>=2.1.0->allennlp==0.9.0) (0.8.2)\n",
            "Requirement already satisfied, skipping upgrade: preshed<2.1.0,>=2.0.1 in /usr/local/lib/python3.7/dist-packages (from spacy<2.2,>=2.1.0->allennlp==0.9.0) (2.0.1)\n",
            "Requirement already satisfied, skipping upgrade: blis<0.3.0,>=0.2.2 in /usr/local/lib/python3.7/dist-packages (from spacy<2.2,>=2.1.0->allennlp==0.9.0) (0.2.4)\n",
            "Requirement already satisfied, skipping upgrade: murmurhash<1.1.0,>=0.28.0 in /usr/local/lib/python3.7/dist-packages (from spacy<2.2,>=2.1.0->allennlp==0.9.0) (1.0.5)\n",
            "Requirement already satisfied, skipping upgrade: srsly<1.1.0,>=0.0.6 in /usr/local/lib/python3.7/dist-packages (from spacy<2.2,>=2.1.0->allennlp==0.9.0) (1.0.5)\n",
            "Requirement already satisfied, skipping upgrade: thinc<7.1.0,>=7.0.8 in /usr/local/lib/python3.7/dist-packages (from spacy<2.2,>=2.1.0->allennlp==0.9.0) (7.0.8)\n",
            "Requirement already satisfied, skipping upgrade: plac<1.0.0,>=0.9.6 in /usr/local/lib/python3.7/dist-packages (from spacy<2.2,>=2.1.0->allennlp==0.9.0) (0.9.6)\n",
            "Requirement already satisfied, skipping upgrade: sphinx>=1.6.5 in /usr/local/lib/python3.7/dist-packages (from numpydoc>=0.8.0->allennlp==0.9.0) (1.8.5)\n",
            "Requirement already satisfied, skipping upgrade: greenlet<2.0,>=0.4.17; platform_python_implementation == \"CPython\" in /usr/local/lib/python3.7/dist-packages (from gevent>=1.3.6->allennlp==0.9.0) (1.0.0)\n",
            "Requirement already satisfied, skipping upgrade: zope.event in /usr/local/lib/python3.7/dist-packages (from gevent>=1.3.6->allennlp==0.9.0) (4.5.0)\n",
            "Requirement already satisfied, skipping upgrade: zope.interface in /usr/local/lib/python3.7/dist-packages (from gevent>=1.3.6->allennlp==0.9.0) (5.3.0)\n",
            "Requirement already satisfied, skipping upgrade: typing-extensions in /usr/local/lib/python3.7/dist-packages (from torch>=1.2.0->allennlp==0.9.0) (3.7.4.3)\n",
            "Requirement already satisfied, skipping upgrade: importlib-metadata; python_version < \"3.8\" in /usr/local/lib/python3.7/dist-packages (from jsonpickle->allennlp==0.9.0) (3.8.1)\n",
            "Requirement already satisfied, skipping upgrade: MarkupSafe>=0.23 in /usr/local/lib/python3.7/dist-packages (from Jinja2>=2.10.1->flask>=1.0.2->allennlp==0.9.0) (1.1.1)\n",
            "Requirement already satisfied, skipping upgrade: snowballstemmer>=1.1 in /usr/local/lib/python3.7/dist-packages (from sphinx>=1.6.5->numpydoc>=0.8.0->allennlp==0.9.0) (2.1.0)\n",
            "Requirement already satisfied, skipping upgrade: sphinxcontrib-websupport in /usr/local/lib/python3.7/dist-packages (from sphinx>=1.6.5->numpydoc>=0.8.0->allennlp==0.9.0) (1.2.4)\n",
            "Requirement already satisfied, skipping upgrade: imagesize in /usr/local/lib/python3.7/dist-packages (from sphinx>=1.6.5->numpydoc>=0.8.0->allennlp==0.9.0) (1.2.0)\n",
            "Requirement already satisfied, skipping upgrade: packaging in /usr/local/lib/python3.7/dist-packages (from sphinx>=1.6.5->numpydoc>=0.8.0->allennlp==0.9.0) (20.9)\n",
            "Requirement already satisfied, skipping upgrade: babel!=2.0,>=1.3 in /usr/local/lib/python3.7/dist-packages (from sphinx>=1.6.5->numpydoc>=0.8.0->allennlp==0.9.0) (2.9.0)\n",
            "Requirement already satisfied, skipping upgrade: Pygments>=2.0 in /usr/local/lib/python3.7/dist-packages (from sphinx>=1.6.5->numpydoc>=0.8.0->allennlp==0.9.0) (2.6.1)\n",
            "Requirement already satisfied, skipping upgrade: alabaster<0.8,>=0.7 in /usr/local/lib/python3.7/dist-packages (from sphinx>=1.6.5->numpydoc>=0.8.0->allennlp==0.9.0) (0.7.12)\n",
            "Requirement already satisfied, skipping upgrade: docutils>=0.11 in /usr/local/lib/python3.7/dist-packages (from sphinx>=1.6.5->numpydoc>=0.8.0->allennlp==0.9.0) (0.16)\n",
            "Requirement already satisfied, skipping upgrade: zipp>=0.5 in /usr/local/lib/python3.7/dist-packages (from importlib-metadata; python_version < \"3.8\"->jsonpickle->allennlp==0.9.0) (3.4.1)\n",
            "Requirement already satisfied, skipping upgrade: sphinxcontrib-serializinghtml in /usr/local/lib/python3.7/dist-packages (from sphinxcontrib-websupport->sphinx>=1.6.5->numpydoc>=0.8.0->allennlp==0.9.0) (1.1.4)\n",
            "/bin/bash: conda: command not found\n",
            "/usr/local/lib/python3.7/dist-packages/requests/__init__.py:91: RequestsDependencyWarning: urllib3 (1.26.4) or chardet (3.0.4) doesn't match a supported version!\n",
            "  RequestsDependencyWarning)\n",
            "Requirement already satisfied: en_core_web_sm==2.1.0 from https://github.com/explosion/spacy-models/releases/download/en_core_web_sm-2.1.0/en_core_web_sm-2.1.0.tar.gz#egg=en_core_web_sm==2.1.0 in /usr/local/lib/python3.7/dist-packages (2.1.0)\n",
            "\u001b[38;5;2m✔ Download and installation successful\u001b[0m\n",
            "You can now load the model via spacy.load('en_core_web_sm')\n",
            "2.1.0\n"
          ],
          "name": "stdout"
        }
      ]
    },
    {
      "cell_type": "code",
      "metadata": {
        "id": "f4zJfaIlJ2bv",
        "colab": {
          "base_uri": "https://localhost:8080/"
        },
        "outputId": "9f04907c-fd32-4b9c-d9d3-d416d6f3ef72"
      },
      "source": [
        "from typing import Iterator, List, Dict\n",
        "import torch\n",
        "import torch.optim as optim\n",
        "import numpy as np\n",
        "from allennlp.data import Instance\n",
        "from allennlp.data.fields import TextField, SequenceLabelField\n",
        "from allennlp.data.dataset_readers import DatasetReader\n",
        "from allennlp.common.file_utils import cached_path\n",
        "from allennlp.data.token_indexers import TokenIndexer, SingleIdTokenIndexer\n",
        "from allennlp.data.tokenizers import Token\n",
        "from allennlp.data.vocabulary import Vocabulary\n",
        "from allennlp.models import Model\n",
        "from allennlp.modules.text_field_embedders import TextFieldEmbedder, BasicTextFieldEmbedder\n",
        "from allennlp.modules.token_embedders import Embedding\n",
        "from allennlp.modules.seq2seq_encoders import Seq2SeqEncoder, PytorchSeq2SeqWrapper\n",
        "from allennlp.nn.util import get_text_field_mask, sequence_cross_entropy_with_logits\n",
        "from allennlp.training.metrics import CategoricalAccuracy\n",
        "from allennlp.data.iterators import BucketIterator\n",
        "from allennlp.training.trainer import Trainer\n",
        "from allennlp.predictors import SentenceTaggerPredictor\n",
        "from allennlp.data.dataset_readers import conll2003\n",
        "import pandas as pd\n",
        "import numpy as np\n",
        "import warnings\n",
        "warnings.filterwarnings('ignore')\n",
        "torch.manual_seed(1)"
      ],
      "execution_count": 72,
      "outputs": [
        {
          "output_type": "execute_result",
          "data": {
            "text/plain": [
              "<torch._C.Generator at 0x7f21fd936850>"
            ]
          },
          "metadata": {
            "tags": []
          },
          "execution_count": 72
        }
      ]
    },
    {
      "cell_type": "code",
      "metadata": {
        "id": "Qo16Ko0Gchxk"
      },
      "source": [
        "class LstmTagger(Model):\n",
        "  def __init__(self,\n",
        "               word_embeddings: TextFieldEmbedder,\n",
        "               encoder: Seq2SeqEncoder,\n",
        "               vocab: Vocabulary) -> None:\n",
        "    super().__init__(vocab)\n",
        "    self.word_embeddings = word_embeddings\n",
        "    self.encoder = encoder\n",
        "    self.hidden2tag = torch.nn.Linear(in_features=encoder.get_output_dim(),\n",
        "                                      out_features=vocab.get_vocab_size('labels'))\n",
        "    self.accuracy = CategoricalAccuracy()\n",
        "\n",
        "  def forward(self,\n",
        "              tokens: Dict[str, torch.Tensor],\n",
        "              metadata,\n",
        "              tags: torch.Tensor = None) -> Dict[str, torch.Tensor]:\n",
        "    mask = get_text_field_mask(tokens)\n",
        "    embeddings = self.word_embeddings(tokens)\n",
        "    encoder_out = self.encoder(embeddings, mask)\n",
        "    tag_logits = self.hidden2tag(encoder_out)\n",
        "    output = {\"tag_logits\": tag_logits}\n",
        "    if tags is not None:\n",
        "      self.accuracy(tag_logits, tags, mask)\n",
        "      output[\"loss\"] = sequence_cross_entropy_with_logits(tag_logits, tags, mask)\n",
        "\n",
        "    return output\n",
        "\n",
        "  def get_metrics(self, reset: bool = False) -> Dict[str, float]:\n",
        "    return {\"accuracy\": self.accuracy.get_metric(reset)}"
      ],
      "execution_count": 73,
      "outputs": []
    },
    {
      "cell_type": "markdown",
      "metadata": {
        "id": "mVdKvPftVVLt"
      },
      "source": [
        "## Import Data"
      ]
    },
    {
      "cell_type": "code",
      "metadata": {
        "id": "5sOVVZslKm3N",
        "colab": {
          "base_uri": "https://localhost:8080/"
        },
        "outputId": "a89656b7-b146-412c-f46e-9bc02a87a1c2"
      },
      "source": [
        "reader = conll2003.Conll2003DatasetReader()\n",
        "train_dataset = reader.read(cached_path('http://www.ccs.neu.edu/home/dasmith/onto.train.ner.sample'))\n",
        "validation_dataset = reader.read(cached_path('http://www.ccs.neu.edu/home/dasmith/onto.development.ner.sample'))\n",
        "\n",
        "from itertools import chain\n",
        "vocab = Vocabulary.from_instances(chain(train_dataset, validation_dataset))"
      ],
      "execution_count": 74,
      "outputs": [
        {
          "output_type": "stream",
          "text": [
            "562it [00:00, 12764.87it/s]\n",
            "23it [00:00, 3749.86it/s]\n",
            "585it [00:00, 35359.01it/s]\n"
          ],
          "name": "stderr"
        }
      ]
    },
    {
      "cell_type": "markdown",
      "metadata": {
        "id": "wpg2Udr-Vnwm"
      },
      "source": [
        "## Define and Train Model"
      ]
    },
    {
      "cell_type": "code",
      "metadata": {
        "id": "8kDQQBMywdKx",
        "colab": {
          "base_uri": "https://localhost:8080/"
        },
        "outputId": "8fab681b-ba51-47da-d9f3-feaf4d2ad949"
      },
      "source": [
        "EMBEDDING_DIM = 6\n",
        "HIDDEN_DIM = 6\n",
        "token_embedding = Embedding(num_embeddings=vocab.get_vocab_size('tokens'),\n",
        "                            embedding_dim=EMBEDDING_DIM)\n",
        "word_embeddings = BasicTextFieldEmbedder({\"tokens\": token_embedding})\n",
        "lstm = PytorchSeq2SeqWrapper(torch.nn.LSTM(EMBEDDING_DIM, HIDDEN_DIM, bidirectional=False, batch_first=True))\n",
        "model = LstmTagger(word_embeddings, lstm, vocab)\n",
        "if torch.cuda.is_available():\n",
        "    cuda_device = 0\n",
        "    model = model.cuda(cuda_device)\n",
        "else:\n",
        "    cuda_device = -1\n",
        "# optimizer = optim.AdamW(model.parameters(), lr=1e-4, eps=1e-8)\n",
        "optimizer = optim.SGD(model.parameters(), lr=0.1)\n",
        "iterator = BucketIterator(batch_size=2, sorting_keys=[(\"tokens\", \"num_tokens\")])\n",
        "iterator.index_with(vocab)\n",
        "trainer = Trainer(model=model,\n",
        "                  optimizer=optimizer,\n",
        "                  iterator=iterator,\n",
        "                  train_dataset=train_dataset,\n",
        "                  validation_dataset=validation_dataset,\n",
        "                  patience=10,\n",
        "                  num_epochs=100,\n",
        "                  cuda_device=cuda_device)\n",
        "trainer.train()"
      ],
      "execution_count": 75,
      "outputs": [
        {
          "output_type": "stream",
          "text": [
            "accuracy: 0.8442, loss: 0.9074 ||: 100%|██████████| 281/281 [00:01<00:00, 146.68it/s]\n",
            "accuracy: 0.7878, loss: 1.1925 ||: 100%|██████████| 12/12 [00:00<00:00, 301.29it/s]\n",
            "accuracy: 0.8442, loss: 0.7301 ||: 100%|██████████| 281/281 [00:01<00:00, 162.20it/s]\n",
            "accuracy: 0.7878, loss: 1.1922 ||: 100%|██████████| 12/12 [00:00<00:00, 302.51it/s]\n",
            "accuracy: 0.8442, loss: 0.7165 ||: 100%|██████████| 281/281 [00:01<00:00, 159.84it/s]\n",
            "accuracy: 0.7878, loss: 1.1849 ||: 100%|██████████| 12/12 [00:00<00:00, 293.90it/s]\n",
            "accuracy: 0.8442, loss: 0.7069 ||: 100%|██████████| 281/281 [00:01<00:00, 161.01it/s]\n",
            "accuracy: 0.7878, loss: 1.1666 ||: 100%|██████████| 12/12 [00:00<00:00, 292.19it/s]\n",
            "accuracy: 0.8442, loss: 0.6992 ||: 100%|██████████| 281/281 [00:01<00:00, 160.59it/s]\n",
            "accuracy: 0.7878, loss: 1.1706 ||: 100%|██████████| 12/12 [00:00<00:00, 320.61it/s]\n",
            "accuracy: 0.8442, loss: 0.6911 ||: 100%|██████████| 281/281 [00:01<00:00, 161.34it/s]\n",
            "accuracy: 0.7878, loss: 1.1577 ||: 100%|██████████| 12/12 [00:00<00:00, 281.12it/s]\n",
            "accuracy: 0.8442, loss: 0.6814 ||: 100%|██████████| 281/281 [00:01<00:00, 162.98it/s]\n",
            "accuracy: 0.7878, loss: 1.1519 ||: 100%|██████████| 12/12 [00:00<00:00, 282.80it/s]\n",
            "accuracy: 0.8442, loss: 0.6705 ||: 100%|██████████| 281/281 [00:01<00:00, 161.94it/s]\n",
            "accuracy: 0.7878, loss: 1.1280 ||: 100%|██████████| 12/12 [00:00<00:00, 307.12it/s]\n",
            "accuracy: 0.8442, loss: 0.6553 ||: 100%|██████████| 281/281 [00:01<00:00, 164.59it/s]\n",
            "accuracy: 0.7878, loss: 1.0998 ||: 100%|██████████| 12/12 [00:00<00:00, 281.29it/s]\n",
            "accuracy: 0.8442, loss: 0.6386 ||: 100%|██████████| 281/281 [00:01<00:00, 161.24it/s]\n",
            "accuracy: 0.7878, loss: 1.0945 ||: 100%|██████████| 12/12 [00:00<00:00, 303.35it/s]\n",
            "accuracy: 0.8442, loss: 0.6121 ||: 100%|██████████| 281/281 [00:01<00:00, 157.86it/s]\n",
            "accuracy: 0.7878, loss: 1.0470 ||: 100%|██████████| 12/12 [00:00<00:00, 287.69it/s]\n",
            "accuracy: 0.8442, loss: 0.5770 ||: 100%|██████████| 281/281 [00:01<00:00, 164.09it/s]\n",
            "accuracy: 0.7878, loss: 0.9723 ||: 100%|██████████| 12/12 [00:00<00:00, 298.19it/s]\n",
            "accuracy: 0.8465, loss: 0.5383 ||: 100%|██████████| 281/281 [00:01<00:00, 162.67it/s]\n",
            "accuracy: 0.7878, loss: 0.9101 ||: 100%|██████████| 12/12 [00:00<00:00, 294.70it/s]\n",
            "accuracy: 0.8566, loss: 0.4996 ||: 100%|██████████| 281/281 [00:01<00:00, 161.09it/s]\n",
            "accuracy: 0.7878, loss: 0.8662 ||: 100%|██████████| 12/12 [00:00<00:00, 278.62it/s]\n",
            "accuracy: 0.8594, loss: 0.4692 ||: 100%|██████████| 281/281 [00:01<00:00, 160.89it/s]\n",
            "accuracy: 0.7878, loss: 0.8355 ||: 100%|██████████| 12/12 [00:00<00:00, 295.16it/s]\n",
            "accuracy: 0.8598, loss: 0.4465 ||: 100%|██████████| 281/281 [00:01<00:00, 161.21it/s]\n",
            "accuracy: 0.7878, loss: 0.8314 ||: 100%|██████████| 12/12 [00:00<00:00, 288.03it/s]\n",
            "accuracy: 0.8613, loss: 0.4308 ||: 100%|██████████| 281/281 [00:01<00:00, 162.42it/s]\n",
            "accuracy: 0.7939, loss: 0.7746 ||: 100%|██████████| 12/12 [00:00<00:00, 267.43it/s]\n",
            "accuracy: 0.8620, loss: 0.4151 ||: 100%|██████████| 281/281 [00:01<00:00, 161.50it/s]\n",
            "accuracy: 0.7939, loss: 0.7654 ||: 100%|██████████| 12/12 [00:00<00:00, 303.38it/s]\n",
            "accuracy: 0.8623, loss: 0.4048 ||: 100%|██████████| 281/281 [00:01<00:00, 160.79it/s]\n",
            "accuracy: 0.7939, loss: 0.7488 ||: 100%|██████████| 12/12 [00:00<00:00, 272.31it/s]\n",
            "accuracy: 0.8634, loss: 0.3977 ||: 100%|██████████| 281/281 [00:01<00:00, 162.10it/s]\n",
            "accuracy: 0.7939, loss: 0.7518 ||: 100%|██████████| 12/12 [00:00<00:00, 275.19it/s]\n",
            "accuracy: 0.8637, loss: 0.3925 ||: 100%|██████████| 281/281 [00:01<00:00, 165.14it/s]\n",
            "accuracy: 0.7939, loss: 0.7282 ||: 100%|██████████| 12/12 [00:00<00:00, 311.47it/s]\n",
            "accuracy: 0.8640, loss: 0.3866 ||: 100%|██████████| 281/281 [00:01<00:00, 162.07it/s]\n",
            "accuracy: 0.7939, loss: 0.7204 ||: 100%|██████████| 12/12 [00:00<00:00, 301.51it/s]\n",
            "accuracy: 0.8644, loss: 0.3812 ||: 100%|██████████| 281/281 [00:01<00:00, 161.56it/s]\n",
            "accuracy: 0.7939, loss: 0.7315 ||: 100%|██████████| 12/12 [00:00<00:00, 284.64it/s]\n",
            "accuracy: 0.8650, loss: 0.3759 ||: 100%|██████████| 281/281 [00:01<00:00, 159.10it/s]\n",
            "accuracy: 0.7939, loss: 0.7152 ||: 100%|██████████| 12/12 [00:00<00:00, 329.16it/s]\n",
            "accuracy: 0.8652, loss: 0.3721 ||: 100%|██████████| 281/281 [00:01<00:00, 162.68it/s]\n",
            "accuracy: 0.7939, loss: 0.7353 ||: 100%|██████████| 12/12 [00:00<00:00, 297.06it/s]\n",
            "accuracy: 0.8662, loss: 0.3680 ||: 100%|██████████| 281/281 [00:01<00:00, 167.67it/s]\n",
            "accuracy: 0.7939, loss: 0.7184 ||: 100%|██████████| 12/12 [00:00<00:00, 263.99it/s]\n",
            "accuracy: 0.8669, loss: 0.3664 ||: 100%|██████████| 281/281 [00:01<00:00, 163.08it/s]\n",
            "accuracy: 0.8020, loss: 0.6963 ||: 100%|██████████| 12/12 [00:00<00:00, 308.32it/s]\n",
            "accuracy: 0.8697, loss: 0.3625 ||: 100%|██████████| 281/281 [00:01<00:00, 161.69it/s]\n",
            "accuracy: 0.8000, loss: 0.7172 ||: 100%|██████████| 12/12 [00:00<00:00, 296.87it/s]\n",
            "accuracy: 0.8718, loss: 0.3573 ||: 100%|██████████| 281/281 [00:01<00:00, 159.68it/s]\n",
            "accuracy: 0.7980, loss: 0.6936 ||: 100%|██████████| 12/12 [00:00<00:00, 326.00it/s]\n",
            "accuracy: 0.8723, loss: 0.3543 ||: 100%|██████████| 281/281 [00:01<00:00, 161.19it/s]\n",
            "accuracy: 0.8020, loss: 0.6808 ||: 100%|██████████| 12/12 [00:00<00:00, 295.57it/s]\n",
            "accuracy: 0.8735, loss: 0.3503 ||: 100%|██████████| 281/281 [00:01<00:00, 158.89it/s]\n",
            "accuracy: 0.8061, loss: 0.6703 ||: 100%|██████████| 12/12 [00:00<00:00, 287.70it/s]\n",
            "accuracy: 0.8733, loss: 0.3471 ||: 100%|██████████| 281/281 [00:01<00:00, 160.35it/s]\n",
            "accuracy: 0.8082, loss: 0.6633 ||: 100%|██████████| 12/12 [00:00<00:00, 299.60it/s]\n",
            "accuracy: 0.8759, loss: 0.3441 ||: 100%|██████████| 281/281 [00:01<00:00, 159.45it/s]\n",
            "accuracy: 0.8082, loss: 0.6574 ||: 100%|██████████| 12/12 [00:00<00:00, 295.34it/s]\n",
            "accuracy: 0.8738, loss: 0.3426 ||: 100%|██████████| 281/281 [00:01<00:00, 161.56it/s]\n",
            "accuracy: 0.8143, loss: 0.6678 ||: 100%|██████████| 12/12 [00:00<00:00, 292.39it/s]\n",
            "accuracy: 0.8782, loss: 0.3378 ||: 100%|██████████| 281/281 [00:01<00:00, 161.74it/s]\n",
            "accuracy: 0.8163, loss: 0.6436 ||: 100%|██████████| 12/12 [00:00<00:00, 291.38it/s]\n",
            "accuracy: 0.8782, loss: 0.3374 ||: 100%|██████████| 281/281 [00:01<00:00, 160.54it/s]\n",
            "accuracy: 0.8224, loss: 0.6363 ||: 100%|██████████| 12/12 [00:00<00:00, 324.72it/s]\n",
            "accuracy: 0.8769, loss: 0.3330 ||: 100%|██████████| 281/281 [00:01<00:00, 159.63it/s]\n",
            "accuracy: 0.8184, loss: 0.6409 ||: 100%|██████████| 12/12 [00:00<00:00, 293.28it/s]\n",
            "accuracy: 0.8791, loss: 0.3301 ||: 100%|██████████| 281/281 [00:01<00:00, 160.34it/s]\n",
            "accuracy: 0.8245, loss: 0.6460 ||: 100%|██████████| 12/12 [00:00<00:00, 293.43it/s]\n",
            "accuracy: 0.8812, loss: 0.3269 ||: 100%|██████████| 281/281 [00:01<00:00, 156.95it/s]\n",
            "accuracy: 0.8224, loss: 0.6439 ||: 100%|██████████| 12/12 [00:00<00:00, 265.95it/s]\n",
            "accuracy: 0.8797, loss: 0.3276 ||: 100%|██████████| 281/281 [00:01<00:00, 156.41it/s]\n",
            "accuracy: 0.8245, loss: 0.6253 ||: 100%|██████████| 12/12 [00:00<00:00, 291.92it/s]\n",
            "accuracy: 0.8827, loss: 0.3213 ||: 100%|██████████| 281/281 [00:01<00:00, 158.83it/s]\n",
            "accuracy: 0.8306, loss: 0.6257 ||: 100%|██████████| 12/12 [00:00<00:00, 291.20it/s]\n",
            "accuracy: 0.8849, loss: 0.3210 ||: 100%|██████████| 281/281 [00:01<00:00, 158.09it/s]\n",
            "accuracy: 0.8224, loss: 0.6336 ||: 100%|██████████| 12/12 [00:00<00:00, 253.46it/s]\n",
            "accuracy: 0.8853, loss: 0.3173 ||: 100%|██████████| 281/281 [00:01<00:00, 161.26it/s]\n",
            "accuracy: 0.8265, loss: 0.6211 ||: 100%|██████████| 12/12 [00:00<00:00, 277.67it/s]\n",
            "accuracy: 0.8867, loss: 0.3147 ||: 100%|██████████| 281/281 [00:01<00:00, 156.78it/s]\n",
            "accuracy: 0.8327, loss: 0.6117 ||: 100%|██████████| 12/12 [00:00<00:00, 265.54it/s]\n",
            "accuracy: 0.8871, loss: 0.3118 ||: 100%|██████████| 281/281 [00:01<00:00, 160.91it/s]\n",
            "accuracy: 0.8327, loss: 0.6330 ||: 100%|██████████| 12/12 [00:00<00:00, 264.31it/s]\n",
            "accuracy: 0.8885, loss: 0.3118 ||: 100%|██████████| 281/281 [00:01<00:00, 161.54it/s]\n",
            "accuracy: 0.8367, loss: 0.5989 ||: 100%|██████████| 12/12 [00:00<00:00, 249.66it/s]\n",
            "accuracy: 0.8897, loss: 0.3069 ||: 100%|██████████| 281/281 [00:01<00:00, 163.81it/s]\n",
            "accuracy: 0.8367, loss: 0.5912 ||: 100%|██████████| 12/12 [00:00<00:00, 268.83it/s]\n",
            "accuracy: 0.8886, loss: 0.3025 ||: 100%|██████████| 281/281 [00:01<00:00, 162.34it/s]\n",
            "accuracy: 0.8388, loss: 0.5937 ||: 100%|██████████| 12/12 [00:00<00:00, 283.44it/s]\n",
            "accuracy: 0.8898, loss: 0.2997 ||: 100%|██████████| 281/281 [00:01<00:00, 158.52it/s]\n",
            "accuracy: 0.8408, loss: 0.5741 ||: 100%|██████████| 12/12 [00:00<00:00, 293.86it/s]\n",
            "accuracy: 0.8924, loss: 0.2972 ||: 100%|██████████| 281/281 [00:01<00:00, 161.92it/s]\n",
            "accuracy: 0.8449, loss: 0.5952 ||: 100%|██████████| 12/12 [00:00<00:00, 268.28it/s]\n",
            "accuracy: 0.8946, loss: 0.2945 ||: 100%|██████████| 281/281 [00:01<00:00, 162.05it/s]\n",
            "accuracy: 0.8449, loss: 0.5843 ||: 100%|██████████| 12/12 [00:00<00:00, 325.79it/s]\n",
            "accuracy: 0.8925, loss: 0.2924 ||: 100%|██████████| 281/281 [00:01<00:00, 155.33it/s]\n",
            "accuracy: 0.8490, loss: 0.5711 ||: 100%|██████████| 12/12 [00:00<00:00, 253.56it/s]\n",
            "accuracy: 0.8954, loss: 0.2888 ||: 100%|██████████| 281/281 [00:01<00:00, 161.80it/s]\n",
            "accuracy: 0.8449, loss: 0.5745 ||: 100%|██████████| 12/12 [00:00<00:00, 300.13it/s]\n",
            "accuracy: 0.8950, loss: 0.2860 ||: 100%|██████████| 281/281 [00:01<00:00, 161.15it/s]\n",
            "accuracy: 0.8469, loss: 0.5588 ||: 100%|██████████| 12/12 [00:00<00:00, 295.19it/s]\n",
            "accuracy: 0.8987, loss: 0.2845 ||: 100%|██████████| 281/281 [00:01<00:00, 164.61it/s]\n",
            "accuracy: 0.8449, loss: 0.5702 ||: 100%|██████████| 12/12 [00:00<00:00, 294.48it/s]\n",
            "accuracy: 0.8999, loss: 0.2797 ||: 100%|██████████| 281/281 [00:01<00:00, 161.85it/s]\n",
            "accuracy: 0.8449, loss: 0.5563 ||: 100%|██████████| 12/12 [00:00<00:00, 295.69it/s]\n",
            "accuracy: 0.8990, loss: 0.2776 ||: 100%|██████████| 281/281 [00:01<00:00, 162.39it/s]\n",
            "accuracy: 0.8490, loss: 0.5445 ||: 100%|██████████| 12/12 [00:00<00:00, 302.00it/s]\n",
            "accuracy: 0.8988, loss: 0.2759 ||: 100%|██████████| 281/281 [00:01<00:00, 161.93it/s]\n",
            "accuracy: 0.8490, loss: 0.5432 ||: 100%|██████████| 12/12 [00:00<00:00, 268.56it/s]\n",
            "accuracy: 0.8995, loss: 0.2726 ||: 100%|██████████| 281/281 [00:01<00:00, 160.29it/s]\n",
            "accuracy: 0.8449, loss: 0.5659 ||: 100%|██████████| 12/12 [00:00<00:00, 306.30it/s]\n",
            "accuracy: 0.9001, loss: 0.2700 ||: 100%|██████████| 281/281 [00:01<00:00, 161.87it/s]\n",
            "accuracy: 0.8531, loss: 0.5223 ||: 100%|██████████| 12/12 [00:00<00:00, 264.62it/s]\n",
            "accuracy: 0.9032, loss: 0.2646 ||: 100%|██████████| 281/281 [00:01<00:00, 163.37it/s]\n",
            "accuracy: 0.8490, loss: 0.5375 ||: 100%|██████████| 12/12 [00:00<00:00, 296.42it/s]\n",
            "accuracy: 0.9010, loss: 0.2628 ||: 100%|██████████| 281/281 [00:01<00:00, 159.71it/s]\n",
            "accuracy: 0.8510, loss: 0.5215 ||: 100%|██████████| 12/12 [00:00<00:00, 247.08it/s]\n",
            "accuracy: 0.9042, loss: 0.2601 ||: 100%|██████████| 281/281 [00:01<00:00, 159.78it/s]\n",
            "accuracy: 0.8531, loss: 0.5195 ||: 100%|██████████| 12/12 [00:00<00:00, 306.53it/s]\n",
            "accuracy: 0.9055, loss: 0.2579 ||: 100%|██████████| 281/281 [00:01<00:00, 157.82it/s]\n",
            "accuracy: 0.8531, loss: 0.5170 ||: 100%|██████████| 12/12 [00:00<00:00, 262.06it/s]\n",
            "accuracy: 0.9048, loss: 0.2566 ||: 100%|██████████| 281/281 [00:01<00:00, 159.91it/s]\n",
            "accuracy: 0.8510, loss: 0.5265 ||: 100%|██████████| 12/12 [00:00<00:00, 270.21it/s]\n",
            "accuracy: 0.9066, loss: 0.2529 ||: 100%|██████████| 281/281 [00:01<00:00, 156.60it/s]\n",
            "accuracy: 0.8510, loss: 0.4840 ||: 100%|██████████| 12/12 [00:00<00:00, 266.94it/s]\n",
            "accuracy: 0.9074, loss: 0.2488 ||: 100%|██████████| 281/281 [00:01<00:00, 159.44it/s]\n",
            "accuracy: 0.8571, loss: 0.4922 ||: 100%|██████████| 12/12 [00:00<00:00, 306.05it/s]\n",
            "accuracy: 0.9096, loss: 0.2481 ||: 100%|██████████| 281/281 [00:01<00:00, 157.02it/s]\n",
            "accuracy: 0.8612, loss: 0.4875 ||: 100%|██████████| 12/12 [00:00<00:00, 286.50it/s]\n",
            "accuracy: 0.9080, loss: 0.2469 ||: 100%|██████████| 281/281 [00:01<00:00, 157.42it/s]\n",
            "accuracy: 0.8571, loss: 0.5014 ||: 100%|██████████| 12/12 [00:00<00:00, 282.88it/s]\n",
            "accuracy: 0.9099, loss: 0.2459 ||: 100%|██████████| 281/281 [00:01<00:00, 163.06it/s]\n",
            "accuracy: 0.8551, loss: 0.4825 ||: 100%|██████████| 12/12 [00:00<00:00, 274.31it/s]\n",
            "accuracy: 0.9110, loss: 0.2432 ||: 100%|██████████| 281/281 [00:01<00:00, 160.62it/s]\n",
            "accuracy: 0.8592, loss: 0.4800 ||: 100%|██████████| 12/12 [00:00<00:00, 261.88it/s]\n",
            "accuracy: 0.9126, loss: 0.2394 ||: 100%|██████████| 281/281 [00:01<00:00, 158.93it/s]\n",
            "accuracy: 0.8633, loss: 0.4723 ||: 100%|██████████| 12/12 [00:00<00:00, 279.62it/s]\n",
            "accuracy: 0.9138, loss: 0.2358 ||: 100%|██████████| 281/281 [00:01<00:00, 158.84it/s]\n",
            "accuracy: 0.8612, loss: 0.4657 ||: 100%|██████████| 12/12 [00:00<00:00, 317.26it/s]\n",
            "accuracy: 0.9133, loss: 0.2354 ||: 100%|██████████| 281/281 [00:01<00:00, 158.36it/s]\n",
            "accuracy: 0.8592, loss: 0.4706 ||: 100%|██████████| 12/12 [00:00<00:00, 313.41it/s]\n",
            "accuracy: 0.9142, loss: 0.2331 ||: 100%|██████████| 281/281 [00:01<00:00, 160.80it/s]\n",
            "accuracy: 0.8592, loss: 0.4727 ||: 100%|██████████| 12/12 [00:00<00:00, 294.70it/s]\n",
            "accuracy: 0.9126, loss: 0.2326 ||: 100%|██████████| 281/281 [00:01<00:00, 161.33it/s]\n",
            "accuracy: 0.8612, loss: 0.4664 ||: 100%|██████████| 12/12 [00:00<00:00, 300.74it/s]\n",
            "accuracy: 0.9117, loss: 0.2289 ||: 100%|██████████| 281/281 [00:01<00:00, 160.93it/s]\n",
            "accuracy: 0.8612, loss: 0.4484 ||: 100%|██████████| 12/12 [00:00<00:00, 295.91it/s]\n",
            "accuracy: 0.9139, loss: 0.2273 ||: 100%|██████████| 281/281 [00:01<00:00, 160.05it/s]\n",
            "accuracy: 0.8633, loss: 0.4412 ||: 100%|██████████| 12/12 [00:00<00:00, 312.03it/s]\n",
            "accuracy: 0.9154, loss: 0.2248 ||: 100%|██████████| 281/281 [00:01<00:00, 159.70it/s]\n",
            "accuracy: 0.8612, loss: 0.4461 ||: 100%|██████████| 12/12 [00:00<00:00, 324.03it/s]\n",
            "accuracy: 0.9154, loss: 0.2215 ||: 100%|██████████| 281/281 [00:01<00:00, 157.03it/s]\n",
            "accuracy: 0.8633, loss: 0.4361 ||: 100%|██████████| 12/12 [00:00<00:00, 301.21it/s]\n",
            "accuracy: 0.9156, loss: 0.2188 ||: 100%|██████████| 281/281 [00:01<00:00, 159.46it/s]\n",
            "accuracy: 0.8653, loss: 0.4315 ||: 100%|██████████| 12/12 [00:00<00:00, 284.77it/s]\n",
            "accuracy: 0.9172, loss: 0.2178 ||: 100%|██████████| 281/281 [00:01<00:00, 159.02it/s]\n",
            "accuracy: 0.8633, loss: 0.4648 ||: 100%|██████████| 12/12 [00:00<00:00, 317.16it/s]\n",
            "accuracy: 0.9167, loss: 0.2163 ||: 100%|██████████| 281/281 [00:01<00:00, 158.79it/s]\n",
            "accuracy: 0.8633, loss: 0.4329 ||: 100%|██████████| 12/12 [00:00<00:00, 283.12it/s]\n",
            "accuracy: 0.9166, loss: 0.2160 ||: 100%|██████████| 281/281 [00:01<00:00, 159.66it/s]\n",
            "accuracy: 0.8633, loss: 0.4290 ||: 100%|██████████| 12/12 [00:00<00:00, 302.41it/s]\n",
            "accuracy: 0.9181, loss: 0.2106 ||: 100%|██████████| 281/281 [00:01<00:00, 159.94it/s]\n",
            "accuracy: 0.8653, loss: 0.4194 ||: 100%|██████████| 12/12 [00:00<00:00, 297.10it/s]\n",
            "accuracy: 0.9157, loss: 0.2133 ||: 100%|██████████| 281/281 [00:01<00:00, 158.66it/s]\n",
            "accuracy: 0.8673, loss: 0.4235 ||: 100%|██████████| 12/12 [00:00<00:00, 267.88it/s]\n",
            "accuracy: 0.9181, loss: 0.2076 ||: 100%|██████████| 281/281 [00:01<00:00, 154.21it/s]\n",
            "accuracy: 0.8633, loss: 0.4220 ||: 100%|██████████| 12/12 [00:00<00:00, 244.11it/s]\n",
            "accuracy: 0.9207, loss: 0.2064 ||: 100%|██████████| 281/281 [00:01<00:00, 158.80it/s]\n",
            "accuracy: 0.8653, loss: 0.4256 ||: 100%|██████████| 12/12 [00:00<00:00, 285.29it/s]\n",
            "accuracy: 0.9194, loss: 0.2051 ||: 100%|██████████| 281/281 [00:01<00:00, 158.87it/s]\n",
            "accuracy: 0.8673, loss: 0.4119 ||: 100%|██████████| 12/12 [00:00<00:00, 271.30it/s]\n",
            "accuracy: 0.9202, loss: 0.2044 ||: 100%|██████████| 281/281 [00:01<00:00, 159.95it/s]\n",
            "accuracy: 0.8694, loss: 0.4094 ||: 100%|██████████| 12/12 [00:00<00:00, 303.90it/s]\n",
            "accuracy: 0.9220, loss: 0.2005 ||: 100%|██████████| 281/281 [00:01<00:00, 158.87it/s]\n",
            "accuracy: 0.8714, loss: 0.4014 ||: 100%|██████████| 12/12 [00:00<00:00, 297.56it/s]\n",
            "accuracy: 0.9218, loss: 0.2006 ||: 100%|██████████| 281/281 [00:01<00:00, 155.69it/s]\n",
            "accuracy: 0.8735, loss: 0.4039 ||: 100%|██████████| 12/12 [00:00<00:00, 272.90it/s]\n",
            "accuracy: 0.9233, loss: 0.1978 ||: 100%|██████████| 281/281 [00:01<00:00, 160.17it/s]\n",
            "accuracy: 0.8755, loss: 0.4048 ||: 100%|██████████| 12/12 [00:00<00:00, 272.51it/s]\n",
            "accuracy: 0.9229, loss: 0.1961 ||: 100%|██████████| 281/281 [00:01<00:00, 156.32it/s]\n",
            "accuracy: 0.8694, loss: 0.3954 ||: 100%|██████████| 12/12 [00:00<00:00, 271.64it/s]\n",
            "accuracy: 0.9263, loss: 0.1933 ||: 100%|██████████| 281/281 [00:01<00:00, 158.62it/s]\n",
            "accuracy: 0.8776, loss: 0.3974 ||: 100%|██████████| 12/12 [00:00<00:00, 286.28it/s]\n",
            "accuracy: 0.9244, loss: 0.1927 ||: 100%|██████████| 281/281 [00:01<00:00, 161.19it/s]\n",
            "accuracy: 0.8796, loss: 0.3882 ||: 100%|██████████| 12/12 [00:00<00:00, 295.49it/s]\n",
            "accuracy: 0.9263, loss: 0.1905 ||: 100%|██████████| 281/281 [00:01<00:00, 158.74it/s]\n",
            "accuracy: 0.8857, loss: 0.3901 ||: 100%|██████████| 12/12 [00:00<00:00, 287.37it/s]\n",
            "accuracy: 0.9268, loss: 0.1881 ||: 100%|██████████| 281/281 [00:01<00:00, 155.33it/s]\n",
            "accuracy: 0.8776, loss: 0.3859 ||: 100%|██████████| 12/12 [00:00<00:00, 289.87it/s]\n",
            "accuracy: 0.9269, loss: 0.1872 ||: 100%|██████████| 281/281 [00:01<00:00, 160.00it/s]\n",
            "accuracy: 0.8878, loss: 0.3730 ||: 100%|██████████| 12/12 [00:00<00:00, 303.46it/s]\n",
            "accuracy: 0.9273, loss: 0.1863 ||: 100%|██████████| 281/281 [00:01<00:00, 156.67it/s]\n",
            "accuracy: 0.8796, loss: 0.3806 ||: 100%|██████████| 12/12 [00:00<00:00, 265.84it/s]\n"
          ],
          "name": "stderr"
        },
        {
          "output_type": "execute_result",
          "data": {
            "text/plain": [
              "{'best_epoch': 98,\n",
              " 'best_validation_accuracy': 0.8877551020408163,\n",
              " 'best_validation_loss': 0.37295930882100947,\n",
              " 'epoch': 99,\n",
              " 'peak_cpu_memory_MB': 2020.296,\n",
              " 'peak_gpu_0_memory_MB': 442,\n",
              " 'training_accuracy': 0.9273382056985489,\n",
              " 'training_cpu_memory_MB': 2020.296,\n",
              " 'training_duration': '0:03:06.779838',\n",
              " 'training_epochs': 99,\n",
              " 'training_gpu_0_memory_MB': 442,\n",
              " 'training_loss': 0.1863348558221967,\n",
              " 'training_start_epoch': 0,\n",
              " 'validation_accuracy': 0.8795918367346939,\n",
              " 'validation_loss': 0.3805924288947911}"
            ]
          },
          "metadata": {
            "tags": []
          },
          "execution_count": 75
        }
      ]
    },
    {
      "cell_type": "markdown",
      "metadata": {
        "id": "mwN6ctqVV0tf"
      },
      "source": [
        "## Evaluation"
      ]
    },
    {
      "cell_type": "markdown",
      "metadata": {
        "id": "qkDs_UdIeuFz"
      },
      "source": [
        "The simple code below loops over the validation set, applying the model to each exmaple and collecting out the input token, gold-standard output, and model output. You can see from these methods how to access ground truth and model outputs for evaluation."
      ]
    },
    {
      "cell_type": "code",
      "metadata": {
        "id": "S0bE4fmLik08",
        "colab": {
          "base_uri": "https://localhost:8080/"
        },
        "outputId": "5954bf8f-8d75-467a-f4e1-947b88097e21"
      },
      "source": [
        "def tag_sentence(s):\n",
        "  tag_ids = np.argmax(model.forward_on_instance(s)['tag_logits'], axis=-1)\n",
        "  fields = zip(s['tokens'], s['tags'], [model.vocab.get_token_from_index(i, 'labels') for i in tag_ids])\n",
        "  return list(fields)\n",
        "\n",
        "baseline_output = [tag_sentence(i) for i in validation_dataset]\n",
        "## Show the first example\n",
        "baseline_output[0]"
      ],
      "execution_count": 76,
      "outputs": [
        {
          "output_type": "execute_result",
          "data": {
            "text/plain": [
              "[(With, 'O', 'O'),\n",
              " (a, 'O', 'O'),\n",
              " (wave, 'O', 'O'),\n",
              " (of, 'O', 'O'),\n",
              " (his, 'O', 'O'),\n",
              " (hand, 'O', 'O'),\n",
              " (,, 'O', 'O'),\n",
              " (Peng, 'B-PERSON', 'B-PERSON'),\n",
              " (Dehuai, 'I-PERSON', 'I-PERSON'),\n",
              " (said, 'O', 'O'),\n",
              " (that, 'O', 'O'),\n",
              " (despite, 'O', 'O'),\n",
              " (being, 'O', 'O'),\n",
              " (over, 'O', 'O'),\n",
              " (100, 'B-CARDINAL', 'B-CARDINAL'),\n",
              " (regiments, 'O', 'O'),\n",
              " (,, 'O', 'O'),\n",
              " (let, 'O', 'O'),\n",
              " ('s, 'O', 'O'),\n",
              " (call, 'O', 'O'),\n",
              " (this, 'O', 'O'),\n",
              " (campaign, 'O', 'O'),\n",
              " (the, 'B-EVENT', 'O'),\n",
              " (Hundred, 'I-EVENT', 'I-EVENT'),\n",
              " (Regiments, 'I-EVENT', 'I-EVENT'),\n",
              " (Offensive, 'I-EVENT', 'I-EVENT'),\n",
              " (., 'O', 'O')]"
            ]
          },
          "metadata": {
            "tags": []
          },
          "execution_count": 76
        }
      ]
    },
    {
      "cell_type": "markdown",
      "metadata": {
        "id": "BpYMx7RVfCyT"
      },
      "source": [
        "Now, you can implement two evaluation functions: `violations` and `span_stats`."
      ]
    },
    {
      "cell_type": "code",
      "metadata": {
        "id": "P042A2Ofg3wa",
        "colab": {
          "base_uri": "https://localhost:8080/"
        },
        "outputId": "698542ab-b120-4fba-a91e-27f5ab045d4b"
      },
      "source": [
        "# TODO: count the number of NER label violations,\n",
        "# such as O followed by I-TYPE or B-TYPE followed by\n",
        "# I-OTHER_TYPE\n",
        "# Take tagger output as input\n",
        "def violations(tagged):\n",
        "  count = 0\n",
        "  for each in tagged:\n",
        "    for i in range(len(each)):\n",
        "      if each[i-1][2][:2] == 'O' and each[i][2][:2] == 'I-':\n",
        "        count += 1\n",
        "      if each[i-1][2][:2] == 'I-' and each[i][2][:2] == 'I-':\n",
        "        if each[i-1][2][2:] != each[i][2][2:]:\n",
        "          count += 1\n",
        "      if each[i-1][2][:2] == 'B-' and each[i][2][:2] == 'I-':\n",
        "        if each[i-1][2][2:] != each[i][2][2:]:\n",
        "          count += 1\n",
        "      if i == 0 and each[i][2][0:2] == 'I-':\n",
        "        count+=1\n",
        "  return count\n",
        "\n",
        "# TODO: return the span-level precision, recall, and F1\n",
        "# Only count valid spans that start with a B tag,\n",
        "# followed by zero or more I tags of the same type.\n",
        "# This is harsher than the token-level metric that the\n",
        "# LSTM was trained to optimize, but it is the standard way\n",
        "# of evaluating NER systems.\n",
        "# Take tagger output as input\n",
        "\n",
        "def check_list(li):\n",
        "  span = []\n",
        "  for tag in li:\n",
        "    i = 0\n",
        "    spans = []\n",
        "    while i < len(tag):\n",
        "      if tag[i][0] == \"B\":\n",
        "        first, second = tag[i].split(\"-\")\n",
        "        j = i+1\n",
        "        start = i\n",
        "        end = i\n",
        "        while j < len(tag):\n",
        "          if tag[j][0] != \"I\":\n",
        "            break\n",
        "          else:\n",
        "            if tag[j].split(\"-\")[1] != second:\n",
        "              break\n",
        "            else:\n",
        "              end = j\n",
        "              j+=1\n",
        "        spans.append((second, start, end))\n",
        "        i = j\n",
        "      else:\n",
        "        i += 1\n",
        "    span.append(spans)\n",
        "  temp = 0\n",
        "  for i in span:\n",
        "    temp += len(i) \n",
        "  return span, temp\n",
        "\n",
        "\n",
        "def span_stats(tagged):\n",
        "  pred_li = [[word[2] for word in lst] for lst in tagged]\n",
        "  gold_li = [[word[1] for word in lst] for lst in tagged]\n",
        "  actual_span = []\n",
        "  pred_span = []\n",
        "  actual = 0\n",
        "  pred = 0\n",
        "  pred_span, pred = check_list(pred_li)\n",
        "  actual_span, actual = check_list(gold_li)\n",
        "  trueSpan = 0\n",
        "  for i in range(len(pred_span)):\n",
        "    for j in range(len(pred_span[i])):\n",
        "      if pred_span[i][j] in actual_span[i]:\n",
        "        trueSpan += 1\n",
        "  precision = trueSpan/pred\n",
        "  recall = trueSpan/actual\n",
        "  f1 = (2 * precision * recall) / (precision + recall)\n",
        "  return {'precision': precision,\n",
        "          'recall': recall,\n",
        "          'f1': f1}\n",
        "\n",
        "print(violations(baseline_output))\n",
        "print(span_stats(baseline_output))"
      ],
      "execution_count": 77,
      "outputs": [
        {
          "output_type": "stream",
          "text": [
            "37\n",
            "{'precision': 0.3448275862068966, 'recall': 0.23255813953488372, 'f1': 0.2777777777777778}\n"
          ],
          "name": "stdout"
        }
      ]
    },
    {
      "cell_type": "markdown",
      "metadata": {
        "id": "fX7-quD2hnzB"
      },
      "source": [
        "## Decoding"
      ]
    },
    {
      "cell_type": "markdown",
      "metadata": {
        "id": "WCgW9d9ohsGv"
      },
      "source": [
        "Now you can finally implement the simple Viterbi decoder. The `model` object, when applied to an input sentence, first calculates the scores for each possible output tag for each token. See the expression `model.forward_on_instance(s)['tag_logits']` in the code above.\n",
        "\n",
        "Then, you will construct a transition matrix. You can use the code below to get a list of the tags the model knows about. For a set of K tags, construct a K-by-K matrix with a log(1)=0 when a transition between a given tag pair is valid and a log(0)=-infinity otherwise.\n",
        "\n",
        "Finally, implement a Viterbi decoder that takes the model object and a dataset object and outputs tagged data, just like the `tag_sentence` function above. It should use the Viterbi algorithm with the (max, plus) semiring. You'll be working with sums of log probabilities instead of products of probabilties.\n",
        "\n",
        "Run your `violations` function on the output of this decoder to make sure that there are no invalid tag transitions. Also, compare the span-level metrics on `baseline_output` and your new output using your `span_stats` function."
      ]
    },
    {
      "cell_type": "code",
      "metadata": {
        "colab": {
          "base_uri": "https://localhost:8080/"
        },
        "id": "TE1rWw1tgKh2",
        "outputId": "546fa6d6-c8d4-4061-e89c-b3a6fe9ee174"
      },
      "source": [
        "# This code shows how to map from output vector components to labels\n",
        "print(vocab.get_index_to_token_vocabulary('labels'))\n",
        "\n",
        "def viterbi_decoder(validation_dataset):\n",
        "    predictor = SentenceTaggerPredictor(model, dataset_reader=reader)\n",
        "    labels = vocab.get_index_to_token_vocabulary('labels')\n",
        "\n",
        "    unique_l = list(labels.values())\n",
        "    for sentence in validation_dataset:\n",
        "      emission_scores = predictor.predict_instance(sentence)['tag_logits']\n",
        "      emissionProb = pd.DataFrame(emission_scores, index = [token.text for token in list(sentence['tokens'])], columns = unique_l)\n",
        "\n",
        "    \n",
        "    # Creating a K by K transition matrix, where K is the number of tags\n",
        "    transitionMatrix = pd.DataFrame(index=labels.values(),columns=labels.values())\n",
        "    transitionMatrix = transitionMatrix.fillna(0)  \n",
        "    for tag_index_1 in range(len(transitionMatrix)):\n",
        "      for tag_index_2 in range(len(transitionMatrix)):\n",
        "        if unique_l[tag_index_2] != 'O':\n",
        "          prev = unique_l[tag_index_1][0]\n",
        "          curr = unique_l[tag_index_2][0]\n",
        "          prevLabelType= unique_l[tag_index_1][2:]\n",
        "          currLabelType= unique_l[tag_index_2][2:]\n",
        "    \n",
        "          #Rules to fill -inf to invalid steps\n",
        "          #1 curr =='I' and prev=='O'\n",
        "          if(curr == 'I' and prev == 'O'):  \n",
        "            transitionMatrix.iloc[tag_index_1,tag_index_2] = np.log(0)\n",
        "          #2 curr =='I' and prev=='I' and prevLabelType!= currLabelType\n",
        "          elif(curr =='I' and prev == 'I' and prevLabelType != currLabelType): \n",
        "            transitionMatrix.iloc[tag_index_1,tag_index_2] = np.log(0)\n",
        "          #3 curr =='I' and prev=='B' and prevLabelType!= currLabelType\n",
        "          elif(curr == 'I' and prev == 'B' and prevLabelType != currLabelType): \n",
        "            transitionMatrix.iloc[tag_index_1,tag_index_2] = np.log(0)    \n",
        "          else:\n",
        "            continue  \n",
        "\n",
        "    start_probs = [0.0] * len(unique_l)\n",
        "    tags = dynamic_path(start_probs, emissionProb, transitionMatrix)\n",
        "    tags = zip(sentence['tokens'], sentence['tags'], [model.vocab.get_token_from_index(i, 'labels') for i in tags])\n",
        "    tags_cum = []\n",
        "    tags_cum.append(list(tags))\n",
        "    return tags_cum"
      ],
      "execution_count": 78,
      "outputs": [
        {
          "output_type": "stream",
          "text": [
            "{0: 'O', 1: 'B-GPE', 2: 'I-ORG', 3: 'I-DATE', 4: 'B-CARDINAL', 5: 'I-EVENT', 6: 'B-PERSON', 7: 'B-NORP', 8: 'B-DATE', 9: 'B-ORG', 10: 'B-LOC', 11: 'I-LOC', 12: 'I-FAC', 13: 'I-PERSON', 14: 'I-GPE', 15: 'I-CARDINAL', 16: 'B-EVENT', 17: 'I-TIME', 18: 'I-WORK_OF_ART', 19: 'B-ORDINAL', 20: 'B-FAC', 21: 'B-TIME', 22: 'I-LAW', 23: 'I-QUANTITY', 24: 'I-NORP', 25: 'I-MONEY', 26: 'B-MONEY', 27: 'B-WORK_OF_ART', 28: 'B-QUANTITY', 29: 'B-LAW', 30: 'B-PRODUCT', 31: 'I-PRODUCT', 32: 'B-PERCENT', 33: 'I-PERCENT'}\n"
          ],
          "name": "stdout"
        }
      ]
    },
    {
      "cell_type": "code",
      "metadata": {
        "id": "nlP8vZhiS68K"
      },
      "source": [
        "def dynamic_path(start_probs, emissionProb, transitionProb):\n",
        "    dp_table = np.array([[0.0 for j in range(emissionProb.shape[0])] for i in range(len(start_probs))])\n",
        "    backtrack_table = np.array([[-1 for j in range(emissionProb.shape[0])] for i in range(len(start_probs))])\n",
        "    \n",
        "    for i in range(emissionProb.shape[0]):\n",
        "        if i == 0:\n",
        "            dp_table[:,0] = np.add(start_probs, emissionProb.iloc[i])\n",
        "        else:\n",
        "            for j in range(len(start_probs)):\n",
        "                dp_table[j,i]= np.max(np.add(transitionProb.iloc[:,j] , dp_table[:,i-1])) + emissionProb.iloc[i,j]\n",
        "                backtrack_table[j,i] = np.argmax(np.add(transitionProb.iloc[:,j] , dp_table[:,i-1]))\n",
        "  \n",
        "    score = np.max(dp_table[:,i])\n",
        "    max_index = np.argmax(dp_table[:,i])\n",
        "  \n",
        "    final_li = []\n",
        "    while max_index != -1:\n",
        "      final_li.append(max_index)\n",
        "      max_index = backtrack_table[max_index,i]\n",
        "      i -= 1\n",
        "    final_li.reverse()\n",
        "    return(final_li)\n"
      ],
      "execution_count": 79,
      "outputs": []
    },
    {
      "cell_type": "markdown",
      "metadata": {
        "id": "Il0F96xGfkzz"
      },
      "source": [
        "# Finally, implement a Viterbi decoder that takes the model object and a dataset object and outputs tagged data, just like the tag_sentence function above. It should use the Viterbi algorithm with the (max, plus) semiring. You'll be working with sums of log probabilities instead of products of probabilties."
      ]
    },
    {
      "cell_type": "code",
      "metadata": {
        "colab": {
          "base_uri": "https://localhost:8080/"
        },
        "id": "s1xcTHBQICPa",
        "outputId": "0279428b-af8b-43bb-e26e-2cb055678a58"
      },
      "source": [
        "out_viterbi = viterbi_decoder(validation_dataset)\n",
        "print(out_viterbi)"
      ],
      "execution_count": 80,
      "outputs": [
        {
          "output_type": "stream",
          "text": [
            "[[(Starting, 'O', 'O'), (from, 'O', 'O'), (the, 'B-DATE', 'O'), (23rd, 'I-DATE', 'O'), (,, 'O', 'O'), (the, 'O', 'O'), (Japanese, 'B-NORP', 'B-NORP'), (army, 'O', 'O'), (in, 'O', 'O'), (Yangquan, 'B-GPE', 'B-GPE'), (,, 'O', 'O'), (backed, 'O', 'O'), (by, 'O', 'O'), (helicopters, 'O', 'O'), (,, 'O', 'O'), (launched, 'O', 'O'), (nonstop, 'O', 'O'), (fierce, 'O', 'O'), (attacks, 'O', 'O'), (on, 'O', 'O'), (Shi'nao, 'B-LOC', 'B-CARDINAL'), (Mountain, 'I-LOC', 'B-PERSON'), (using, 'O', 'O'), (chemical, 'O', 'O'), (weapons, 'O', 'O'), (., 'O', 'O')]]\n"
          ],
          "name": "stdout"
        }
      ]
    },
    {
      "cell_type": "markdown",
      "metadata": {
        "id": "f3naB715fcZ2"
      },
      "source": [
        "# Results from the Violation function on the output"
      ]
    },
    {
      "cell_type": "code",
      "metadata": {
        "id": "5YJkKNvAIFKZ",
        "colab": {
          "base_uri": "https://localhost:8080/"
        },
        "outputId": "f1a658d4-d439-4117-997f-a5bd47efbbf9"
      },
      "source": [
        "print(\"Violations:\",violations(out_viterbi))"
      ],
      "execution_count": 81,
      "outputs": [
        {
          "output_type": "stream",
          "text": [
            "Violations: 0\n"
          ],
          "name": "stdout"
        }
      ]
    },
    {
      "cell_type": "markdown",
      "metadata": {
        "id": "TnJQWBFxfetF"
      },
      "source": [
        "# Comparing the span-level metrics on baseline_output and your new output using your span_stats function"
      ]
    },
    {
      "cell_type": "code",
      "metadata": {
        "colab": {
          "base_uri": "https://localhost:8080/"
        },
        "id": "t45TPfgBfeHu",
        "outputId": "f9c99f78-e282-4b9f-f04a-1ce66241cd2a"
      },
      "source": [
        "print(\"Span stats:\",span_stats(out_viterbi))"
      ],
      "execution_count": 82,
      "outputs": [
        {
          "output_type": "stream",
          "text": [
            "Span stats: {'precision': 0.5, 'recall': 0.5, 'f1': 0.5}\n"
          ],
          "name": "stdout"
        }
      ]
    }
  ]
}